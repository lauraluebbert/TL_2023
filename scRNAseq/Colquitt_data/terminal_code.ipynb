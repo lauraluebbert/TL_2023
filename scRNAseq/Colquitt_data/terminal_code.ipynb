{
 "cells": [
  {
   "cell_type": "markdown",
   "metadata": {},
   "source": [
    "# Introduction to single-cell RNA-seq II: getting started with analysis"
   ]
  },
  {
   "cell_type": "markdown",
   "metadata": {},
   "source": [
    "Paper: https://science-sciencemag-org.clsproxy.library.caltech.edu/content/371/6530/eabd9704/tab-pdf  \n",
    "Supp.: https://science.sciencemag.org/content/sci/suppl/2021/02/10/371.6530.eabd9704.DC1/abd9704_Colquitt_SM.pdf  \n",
    "Tutorial: https://www.kallistobus.tools/tutorials/kb_getting_started/python/kb_intro_2_python/"
   ]
  },
  {
   "cell_type": "markdown",
   "metadata": {},
   "source": [
    "This notebook demonstrates pre-processing and basic analysis of the mouse retinal cells GSE126783 dataset from Koren et al., 2019. Following pre-processing using kallisto and bustools and basic QC, the notebook demonstrates some initial analysis. The approximate running time of the notebook is about 13 minutes.\n",
    "\n",
    "The notebook was written by Kyung Hoi (Joseph) Min, A. Sina Booeshaghi and Lior Pachter. If you use the methods in this notebook for your analysis please cite the following publications which describe the tools used in the notebook, as well as specific methods they run (these are cited inline in the notebook):\n",
    "\n",
    "Melsted, P., Booeshaghi, A.S. et al. Modular and efficient pre-processing of single-cell RNA-seq. bioRxiv (2019). doi:10.1101/673285\n",
    "Wolf, F. A., Angere, P. and Theis, F.J. SCANPY: large-scale single-cell gene expression data analysis. Genome Biology (2018). doi:10.1186/s13059-017-1382-0\n",
    "An R notebook implementing the same analysis is available here. See the kallistobus.tools tutorials site for additional notebooks demonstrating other analyses."
   ]
  },
  {
   "cell_type": "markdown",
   "metadata": {},
   "source": [
    "# Setup"
   ]
  },
  {
   "cell_type": "code",
   "execution_count": 1,
   "metadata": {},
   "outputs": [],
   "source": [
    "# This is  used to time the running of the notebook\n",
    "import time\n",
    "start_time = time.time()"
   ]
  },
  {
   "cell_type": "markdown",
   "metadata": {},
   "source": [
    "# Install and import python packages"
   ]
  },
  {
   "cell_type": "code",
   "execution_count": 2,
   "metadata": {},
   "outputs": [],
   "source": [
    "# # These packages are pre-installed on Google Colab, but are included here to facilitate running this notebook locally\n",
    "# !pip install --quiet matplotlib\n",
    "# !pip install --quiet scikit-learn\n",
    "# !pip install --quiet numpy\n",
    "# !pip install --quiet scipy"
   ]
  },
  {
   "cell_type": "code",
   "execution_count": 3,
   "metadata": {},
   "outputs": [],
   "source": [
    "# %%time\n",
    "# # `kb` is a wrapper for the kallisto and bustools program, and the kb-python package contains the kallisto and bustools executables.\n",
    "# !pip install --quiet kb-python==0.24.1"
   ]
  },
  {
   "cell_type": "code",
   "execution_count": 4,
   "metadata": {},
   "outputs": [],
   "source": [
    "# !pip install numba"
   ]
  },
  {
   "cell_type": "code",
   "execution_count": 5,
   "metadata": {},
   "outputs": [],
   "source": [
    "# %%time\n",
    "# # Install scanpy and other packages needed for single-cell RNA-seq analysis\n",
    "# !pip install --quiet scanpy python-igraph louvain MulticoreTSNE pybiomart"
   ]
  },
  {
   "cell_type": "code",
   "execution_count": 6,
   "metadata": {},
   "outputs": [],
   "source": [
    "# Import packages\n",
    "import anndata\n",
    "import matplotlib\n",
    "import matplotlib.pyplot as plt\n",
    "import numpy as np\n",
    "import pandas as pd\n",
    "import scanpy as sc\n",
    "from sklearn.decomposition import TruncatedSVD\n",
    "from scipy import sparse, io\n",
    "\n",
    "matplotlib.rcParams.update({'font.size': 12})\n",
    "%config InlineBackend.figure_format = 'retina'"
   ]
  },
  {
   "cell_type": "markdown",
   "metadata": {},
   "source": [
    "# Download the data\n",
    "Note: We use the -O option for wget to rename the files so they can be easily identified. The notebook requires reads in fastq format; the files can be processed in gzip compressed format.\n",
    "\n",
    "In this example the reads are downloaded from a Box drive; see the data download notebook for information on where to find publicly available single-cell RNA-seq data."
   ]
  },
  {
   "cell_type": "code",
   "execution_count": 7,
   "metadata": {},
   "outputs": [],
   "source": [
    "# %%time\n",
    "# !wget -q https://caltech.box.com/shared/static/9u2qk1uqu6py03phooe1ti0kjd9v87pu.txt -O checksums.txt\n",
    "# !wget -q https://caltech.box.com/shared/static/w9ww8et5o029s2e3usjzpbq8lpot29rh.gz -O SRR8599150_S1_L001_R1_001.fastq.gz\n",
    "# !wget -q https://caltech.box.com/shared/static/ql00zyvqnpy7bf8ogdoe9zfy907guzy9.gz -O SRR8599150_S1_L001_R2_001.fastq.gz"
   ]
  },
  {
   "cell_type": "markdown",
   "metadata": {},
   "source": [
    "# kb"
   ]
  },
  {
   "cell_type": "markdown",
   "metadata": {},
   "source": [
    "## Build index:"
   ]
  },
  {
   "cell_type": "code",
   "execution_count": 8,
   "metadata": {},
   "outputs": [],
   "source": [
    "# %%time\n",
    "# !kb ref -i index.idx -g t2g.txt -f1 cdna.fa \\\n",
    "# Taeniopygia_guttata.bTaeGut1_v1.p.dna.toplevel.fa.gz \\\n",
    "# Taeniopygia_guttata.bTaeGut1_v1.p.104.gtf.gz"
   ]
  },
  {
   "cell_type": "markdown",
   "metadata": {},
   "source": [
    "#### Build index with nucleus setting"
   ]
  },
  {
   "cell_type": "code",
   "execution_count": 9,
   "metadata": {},
   "outputs": [],
   "source": [
    "# kb ref -i index_nucleus.idx -g t2g_nucleus.txt -f1 cdna_nucleus.fa -f2 introns.fa -c1 cDNA_t2c.txt -c2 intron_t2c.txt --workflow=nucleus Taeniopygia_guttata.bTaeGut1_v1.p.dna.toplevel.fa Taeniopygia_guttata.bTaeGut1_v1.p.104.gtf"
   ]
  },
  {
   "cell_type": "markdown",
   "metadata": {},
   "source": [
    "## Pseudoalignment and counting\n",
    "Run kallisto and bustools  \n",
    "The following command will generate an RNA count matrix of cells (rows) by genes (columns) in H5AD format, which is a binary format used to store Anndata objects. Notice that this requires providing the index and transcript-to-gene mapping downloaded in the previous step to the -i and -g arguments respectively. Also, since the reads were generated with the 10x Genomics Chromium Single Cell v3, the -x 10xv3 argument is used. "
   ]
  },
  {
   "cell_type": "markdown",
   "metadata": {},
   "source": [
    "### Added \"--filter bustools\"   \n",
    "I ran below code on the terminal. The filtering only worked after downloading the most recent kb version. The latest version did not download/update automatically (pip downloaded an older version)."
   ]
  },
  {
   "cell_type": "code",
   "execution_count": 10,
   "metadata": {},
   "outputs": [],
   "source": [
    "# %%time\n",
    "# # This step runs `kb` to pseudoalign the reads, and then generate the cells x gene matrix in h5ad format.\n",
    "# !kb count --filter bustools -i index.idx -g t2g.txt -x 10xv3 --h5ad -t 8 -o \"hvc1_kallisto\"\\\n",
    "# SRR12130197_1.fastq.gz \\\n",
    "# SRR12130197_2.fastq.gz"
   ]
  },
  {
   "cell_type": "markdown",
   "metadata": {},
   "source": [
    "Same for the HVC experiment 3 dataset:"
   ]
  },
  {
   "cell_type": "code",
   "execution_count": 11,
   "metadata": {},
   "outputs": [],
   "source": [
    "# %%time\n",
    "# # This step runs `kb` to pseudoalign the reads, and then generate the cells x gene matrix in h5ad format.\n",
    "# !kb count --filter bustools -i index.idx -g t2g.txt -x 10xv3 --h5ad -t 8 -o \"hvc3_kallisto\"\\\n",
    "# SRR12130199_1.fastq.gz \\\n",
    "# SRR12130199_2.fastq.gz"
   ]
  },
  {
   "cell_type": "markdown",
   "metadata": {},
   "source": [
    "Ran on Terminal (this was before fastq files were renamed for cellranger):"
   ]
  },
  {
   "cell_type": "code",
   "execution_count": 12,
   "metadata": {},
   "outputs": [],
   "source": [
    "# kb count --filter bustools -i index.idx -g t2g.txt -x 10xv3 --h5ad -t 8 -o hvc1_kallisto SRR12130197_1.fastq.gz SRR12130197_2.fastq.gz  "
   ]
  },
  {
   "cell_type": "code",
   "execution_count": 13,
   "metadata": {},
   "outputs": [],
   "source": [
    "# kb count --filter bustools -i index.idx -g t2g.txt -x 10xv3 --h5ad -t 8 -o hvc3_kallisto SRR12130199_1.fastq.gz SRR12130199_2.fastq.gz"
   ]
  },
  {
   "cell_type": "markdown",
   "metadata": {},
   "source": [
    "#### Pseudoalignment & counting with nucleus setting:  "
   ]
  },
  {
   "cell_type": "code",
   "execution_count": 14,
   "metadata": {},
   "outputs": [],
   "source": [
    "## For HVC1\n",
    "# kb count \\\n",
    "# --filter bustools \\\n",
    "# -i ./kallisto_nucleus/index_nucleus.idx \\\n",
    "# -g ./kallisto_nucleus/t2g_nucleus.txt \\\n",
    "# -x 10xv3 \\\n",
    "# -c1 cDNA_t2c.txt \\\n",
    "# -c2 intron_t2c.txt \\\n",
    "# --h5ad \\\n",
    "# -t 8 \\\n",
    "# -o ./kallisto_nucleus/hvc1_kallisto_nucleus \\\n",
    "# ./hvc1_fastq/SRR12130197_S1_L001_R1_001.fastq.gz \\\n",
    "# ./hvc1_fastq/SRR12130197_S1_L001_R2_001.fastq.gz"
   ]
  },
  {
   "cell_type": "code",
   "execution_count": null,
   "metadata": {},
   "outputs": [],
   "source": [
    "# ## For HVC2\n",
    "# kb count \\\n",
    "# --filter bustools \\\n",
    "# -i ./kallisto_nucleus/index_nucleus.idx \\\n",
    "# -g ./kallisto_nucleus/t2g_nucleus.txt \\\n",
    "# -x 10xv3 \\\n",
    "# -c1 cDNA_t2c.txt \\\n",
    "# -c2 intron_t2c.txt \\\n",
    "# --h5ad \\\n",
    "# -t 8 \\\n",
    "# -o ./kallisto_nucleus/hvc2_kallisto_nucleus \\\n",
    "# ./hvc2_fastq/SRR12130198_1.fastq.gz \\\n",
    "# ./hvc2_fastq/SRR12130198_2.fastq.gz"
   ]
  },
  {
   "cell_type": "code",
   "execution_count": 15,
   "metadata": {},
   "outputs": [],
   "source": [
    "## For HVC3\n",
    "# kb count \\\n",
    "# --filter bustools \\\n",
    "# -i ./kallisto_nucleus/index_nucleus.idx \\\n",
    "# -g ./kallisto_nucleus/t2g_nucleus.txt \\\n",
    "# -x 10xv3 \\\n",
    "# -c1 cDNA_t2c.txt \\\n",
    "# -c2 intron_t2c.txt \\\n",
    "# --h5ad \\\n",
    "# -t 8 \\\n",
    "# -o ./kallisto_nucleus/hvc3_kallisto_nucleus \\\n",
    "# ./hvc3_fastq/SRR12130197_S1_L001_R1_001.fastq.gz \\\n",
    "# ./hvc3_fastq/SRR12130197_S1_L001_R2_001.fastq.gz"
   ]
  },
  {
   "cell_type": "markdown",
   "metadata": {},
   "source": [
    "#### Import filtered and unfiltered data"
   ]
  },
  {
   "cell_type": "code",
   "execution_count": 16,
   "metadata": {},
   "outputs": [
    {
     "data": {
      "text/plain": [
       "AnnData object with n_obs × n_vars = 925666 × 22150\n",
       "    var: 'gene_name'"
      ]
     },
     "execution_count": 16,
     "metadata": {},
     "output_type": "execute_result"
    }
   ],
   "source": [
    "# import HVC 1 unfiltered data\n",
    "adata_hvc1_uf = anndata.read('kallisto_normal/hvc1_kallisto/counts_unfiltered/adata.h5ad')\n",
    "adata_hvc1_uf"
   ]
  },
  {
   "cell_type": "code",
   "execution_count": 17,
   "metadata": {},
   "outputs": [
    {
     "data": {
      "text/plain": [
       "AnnData object with n_obs × n_vars = 36297 × 22150\n",
       "    var: 'gene_name'"
      ]
     },
     "execution_count": 17,
     "metadata": {},
     "output_type": "execute_result"
    }
   ],
   "source": [
    "# import HVC 1 filtered data\n",
    "adata_hvc1_f = anndata.read('kallisto_normal/hvc1_kallisto/counts_filtered/adata.h5ad')\n",
    "adata_hvc1_f"
   ]
  },
  {
   "cell_type": "code",
   "execution_count": 19,
   "metadata": {},
   "outputs": [
    {
     "data": {
      "text/plain": [
       "AnnData object with n_obs × n_vars = 925999 × 22150\n",
       "    var: 'gene_name'"
      ]
     },
     "execution_count": 19,
     "metadata": {},
     "output_type": "execute_result"
    }
   ],
   "source": [
    "# import HVC 3 unfiltered data\n",
    "adata_hvc3_uf = anndata.read('kallisto_normal/hvc3_kallisto/counts_unfiltered/adata.h5ad')\n",
    "adata_hvc3_uf"
   ]
  },
  {
   "cell_type": "code",
   "execution_count": 20,
   "metadata": {},
   "outputs": [
    {
     "data": {
      "text/plain": [
       "AnnData object with n_obs × n_vars = 43931 × 22150\n",
       "    var: 'gene_name'"
      ]
     },
     "execution_count": 20,
     "metadata": {},
     "output_type": "execute_result"
    }
   ],
   "source": [
    "# import HVC 3 filtered data\n",
    "adata_hvc3_f = anndata.read('kallisto_normal/hvc3_kallisto/counts_filtered/adata.h5ad')\n",
    "adata_hvc3_f"
   ]
  },
  {
   "cell_type": "markdown",
   "metadata": {},
   "source": [
    "# CellRanger"
   ]
  },
  {
   "cell_type": "markdown",
   "metadata": {},
   "source": [
    "FASTA and genes files unzipped using \"gunzip\" command in terminal."
   ]
  },
  {
   "cell_type": "markdown",
   "metadata": {},
   "source": [
    "Note: The data analyst in the zebrafinch scseq paper possibly ran \"cellranger mkgtf\" with variable \"--attribute=gene_biotype:protein_coding\" thereby creating a minimal GTF containing only exon information. (Does this explain 0% alignment to intronic sequences in Table S1?)"
   ]
  },
  {
   "cell_type": "markdown",
   "metadata": {},
   "source": [
    "Build CellRanger index (in terminal):"
   ]
  },
  {
   "cell_type": "code",
   "execution_count": null,
   "metadata": {},
   "outputs": [],
   "source": [
    "# cellranger mkref --genome=Taeniopygia_guttata_genome \\\n",
    "# --fasta=Taeniopygia_guttata.bTaeGut1_v1.p.dna.toplevel.fa \\\n",
    "# --genes=Taeniopygia_guttata.bTaeGut1_v1.p.104.gtf \\\n",
    "# --nthreads=8"
   ]
  },
  {
   "cell_type": "markdown",
   "metadata": {},
   "source": [
    "See info from this run in \"Log.out\" file."
   ]
  },
  {
   "cell_type": "markdown",
   "metadata": {},
   "source": [
    "##### In order to run the below command, the fastq files need to be renamed according to SampleName_S1_L001_R1_001 !!!"
   ]
  },
  {
   "cell_type": "code",
   "execution_count": null,
   "metadata": {},
   "outputs": [],
   "source": [
    "# cellranger count \\\n",
    "# --id=hvc1_cellranger \\\n",
    "# --transcriptome=cellranger_unfiltered/Taeniopygia_guttata_genome \\\n",
    "# --fastqs=hvc1_fastq"
   ]
  },
  {
   "cell_type": "code",
   "execution_count": null,
   "metadata": {},
   "outputs": [],
   "source": [
    "# cellranger count \\\n",
    "# --id=hvc3_cellranger \\\n",
    "# --transcriptome=cellranger_unfiltered/Taeniopygia_guttata_genome \\\n",
    "# --fastqs=hvc3_fastq"
   ]
  },
  {
   "cell_type": "markdown",
   "metadata": {},
   "source": [
    "### Test if building GTF with variable mentioned above gets rid of intron alignments:"
   ]
  },
  {
   "cell_type": "markdown",
   "metadata": {},
   "source": [
    "Filter GTF:"
   ]
  },
  {
   "cell_type": "code",
   "execution_count": null,
   "metadata": {},
   "outputs": [],
   "source": [
    "# cellranger mkgtf Taeniopygia_guttata.bTaeGut1_v1.p.104.gtf Taeniopygia_guttata.bTaeGut1_v1.p.104.filtered.gtf --attribute=gene_biotype:protein_coding"
   ]
  },
  {
   "cell_type": "markdown",
   "metadata": {},
   "source": [
    "Build CellRanger index using filtered gtf:"
   ]
  },
  {
   "cell_type": "code",
   "execution_count": null,
   "metadata": {},
   "outputs": [],
   "source": [
    "# cellranger mkref --genome=Taeniopygia_guttata_genome_filtered \\\n",
    "# --fasta=Taeniopygia_guttata.bTaeGut1_v1.p.dna.toplevel.fa \\\n",
    "# --genes=Taeniopygia_guttata.bTaeGut1_v1.p.104.filtered.gtf \\\n",
    "# --nthreads=8"
   ]
  },
  {
   "cell_type": "code",
   "execution_count": null,
   "metadata": {},
   "outputs": [],
   "source": [
    "# cellranger count --id=hvc1_cellranger_filtered --transcriptome=./cellranger_gtf-filtered/Taeniopygia_guttata_genome_filtered --fastqs=hvc1_fastq"
   ]
  },
  {
   "cell_type": "code",
   "execution_count": null,
   "metadata": {},
   "outputs": [],
   "source": [
    "# cellranger count --id=hvc3_cellranger_filtered --transcriptome=./cellranger_gtf-filtered/Taeniopygia_guttata_genome_filtered --fastqs=hvc3_fastq"
   ]
  },
  {
   "cell_type": "code",
   "execution_count": null,
   "metadata": {},
   "outputs": [],
   "source": [
    "# Create a plot showing genes detected as a function of UMI counts.\n",
    "fig, ax = plt.subplots(figsize=(10, 7))\n",
    "\n",
    "x = np.asarray(adata_hvc1_uf.X.sum(axis=1))[:,0]\n",
    "y = np.asarray(np.sum(adata_hvc1_uf.X>0, axis=1))[:,0]\n",
    "\n",
    "ax.scatter(x, y, color=\"green\", alpha=0.25)\n",
    "ax.set_xlabel(\"UMI Counts\")\n",
    "ax.set_ylabel(\"Genes Detected\")\n",
    "ax.set_xscale('log')\n",
    "ax.set_yscale('log', nonposy='clip')\n",
    "\n",
    "ax.set_xlim((0.5, 4500))\n",
    "ax.set_ylim((0.5,2000))\n",
    "\n",
    "\n",
    "plt.show()"
   ]
  },
  {
   "cell_type": "markdown",
   "metadata": {},
   "source": [
    "The below returns an empty list for both ggallus and hsapiens (no reference exists for tguttata). This means that none of the identified mitochondrial gene names occur in the zebrafinch ref genome."
   ]
  },
  {
   "cell_type": "code",
   "execution_count": null,
   "metadata": {},
   "outputs": [],
   "source": [
    "# mito_ensembl_names = sc.queries.mitochondrial_genes(\"ggallus\", attrname=\"external_gene_name\")\n",
    "# np.where(adata_hvc1_uf.var[\"gene_name\"].isin(mito_ensembl_names[\"external_gene_name\"].values))"
   ]
  },
  {
   "cell_type": "markdown",
   "metadata": {},
   "source": [
    "I will instead find all gene names that start with \"MT\". I am not sure whether all of these are actually mitochondrial genes."
   ]
  },
  {
   "cell_type": "code",
   "execution_count": null,
   "metadata": {},
   "outputs": [],
   "source": [
    "# Find all gene indices startng with \"MT\"\n",
    "df = np.where(adata_hvc1_uf.var[\"gene_name\"].str.startswith(\"MT\")==True)"
   ]
  },
  {
   "cell_type": "code",
   "execution_count": null,
   "metadata": {},
   "outputs": [],
   "source": [
    "# Show all genes startng with \"MT\" - Are the mitochondrial genes???\n",
    "mito_genes = adata_hvc1_uf.var[\"gene_name\"].iloc[df]\n",
    "mito_genes"
   ]
  },
  {
   "cell_type": "code",
   "execution_count": null,
   "metadata": {},
   "outputs": [],
   "source": [
    "mito_ids = mito_genes.index.values"
   ]
  },
  {
   "cell_type": "code",
   "execution_count": null,
   "metadata": {},
   "outputs": [],
   "source": [
    "adata_hvc1_uf.var[\"gene_id\"] = adata_hvc1_uf.var.index.values"
   ]
  },
  {
   "cell_type": "code",
   "execution_count": null,
   "metadata": {},
   "outputs": [],
   "source": [
    "adata_hvc1_uf.var"
   ]
  },
  {
   "cell_type": "code",
   "execution_count": null,
   "metadata": {},
   "outputs": [],
   "source": [
    "adata_hvc1_uf.var[\"mito\"] = False\n",
    "adata_hvc1_uf.var.loc[(adata_hvc1_uf.var[\"gene_id\"].isin(mito_ids) ==True), \"mito\"] = True"
   ]
  },
  {
   "cell_type": "code",
   "execution_count": null,
   "metadata": {},
   "outputs": [],
   "source": [
    "adata_hvc1_uf.var"
   ]
  },
  {
   "cell_type": "code",
   "execution_count": 21,
   "metadata": {},
   "outputs": [],
   "source": [
    "# mito_genes = mito_gene_ids.values\n",
    "# # for each cell compute fraction of counts in mito genes vs. all genes\n",
    "# # the `.A1` is only necessary as X is sparse (to transform to a dense array after summing)\n",
    "# adata_hvc1_uf.obs['percent_mito'] = np.sum(\n",
    "#     adata_hvc1_uf[:, mito_genes].X, axis=1).A1 / np.sum(adata_hvc1_uf.X, axis=1).A1\n",
    "# # add the total counts per cell as observations-annotation to adata\n",
    "# adata_hvc1_uf.obs['n_counts'] = adata_hvc1_uf.X.sum(axis=1).A1"
   ]
  },
  {
   "cell_type": "code",
   "execution_count": null,
   "metadata": {},
   "outputs": [],
   "source": [
    "sc.pl.scatter(adata, x='n_counts', y='percent_mito')"
   ]
  },
  {
   "cell_type": "markdown",
   "metadata": {},
   "source": [
    "# Build atlas for HVC1 using bustool filtered Kallisto (normal) matrix"
   ]
  },
  {
   "cell_type": "markdown",
   "metadata": {},
   "source": [
    "Expected number of cells for HVC1: 10554 (from Table S1 seq-stats)"
   ]
  },
  {
   "cell_type": "code",
   "execution_count": 18,
   "metadata": {},
   "outputs": [],
   "source": [
    "adata = adata_hvc1_f\n",
    "adata"
   ]
  },
  {
   "cell_type": "markdown",
   "metadata": {},
   "source": [
    "Test for library saturation:"
   ]
  },
  {
   "cell_type": "markdown",
   "metadata": {},
   "source": [
    "# Legend of the heatmap???"
   ]
  },
  {
   "cell_type": "code",
   "execution_count": 25,
   "metadata": {},
   "outputs": [
    {
     "data": {
      "image/png": "[encoded data removed]",
      "text/plain": [
       "<Figure size 504x504 with 2 Axes>"
      ]
     },
     "metadata": {
      "image/png": {
       "height": 437,
       "width": 431
      },
      "needs_background": "light"
     },
     "output_type": "display_data"
    }
   ],
   "source": [
    "fig, ax = plt.subplots(figsize=(7,7))\n",
    "\n",
    "#histogram definition\n",
    "bins = [1500, 1500] # number of bins\n",
    "\n",
    "# histogram the data\n",
    "hh, locx, locy = np.histogram2d(x, y, bins=bins)\n",
    "\n",
    "# Sort the points by density, so that the densest points are plotted last\n",
    "z = np.array([hh[np.argmax(a<=locx[1:]),np.argmax(b<=locy[1:])] for a,b in zip(x,y)])\n",
    "idx = z.argsort()\n",
    "x2, y2, z2 = x[idx], y[idx], z[idx]\n",
    "\n",
    "\n",
    "s = ax.scatter(x2, y2, c=z2, cmap='Greens')  \n",
    "fig.colorbar(s, ax=ax)\n",
    "\n",
    "ax.set_xscale('log')\n",
    "ax.set_yscale('log')\n",
    "ax.set_xlabel(\"UMI Counts\")\n",
    "ax.set_ylabel(\"Genes Detected\")\n",
    "\n",
    "ax.set_xlim(1, 10**5)\n",
    "ax.set_ylim(1, 10**4)\n",
    "\n",
    "plt.show()"
   ]
  },
  {
   "cell_type": "markdown",
   "metadata": {},
   "source": [
    "#### Knee plot"
   ]
  },
  {
   "cell_type": "code",
   "execution_count": 19,
   "metadata": {},
   "outputs": [
    {
     "data": {
      "image/png": "[encoded data removed]",
      "text/plain": [
       "<Figure size 720x504 with 1 Axes>"
      ]
     },
     "metadata": {
      "image/png": {
       "height": 431,
       "width": 616
      },
      "needs_background": "light"
     },
     "output_type": "display_data"
    }
   ],
   "source": [
    "expected_num_cells =  10554\n",
    "knee = np.sort((np.array(adata.X.sum(axis=1))).flatten())[::-1]\n",
    "\n",
    "fig, ax = plt.subplots(figsize=(10, 7))\n",
    "\n",
    "ax.loglog(knee, range(len(knee)), linewidth=5, color=\"g\")\n",
    "ax.axvline(x=knee[expected_num_cells], linewidth=3, color=\"k\")\n",
    "ax.axhline(y=expected_num_cells, linewidth=3, color=\"k\")\n",
    "\n",
    "ax.set_xlabel(\"UMI Counts\")\n",
    "ax.set_ylabel(\"Set of Barcodes\")\n",
    "\n",
    "plt.grid(True, which=\"both\")\n",
    "plt.show()"
   ]
  },
  {
   "cell_type": "markdown",
   "metadata": {},
   "source": [
    "### Filtering"
   ]
  },
  {
   "cell_type": "markdown",
   "metadata": {},
   "source": [
    "Minimum number of UMI counts based on knee plot:"
   ]
  },
  {
   "cell_type": "code",
   "execution_count": 20,
   "metadata": {},
   "outputs": [
    {
     "data": {
      "text/plain": [
       "654.0"
      ]
     },
     "execution_count": 20,
     "metadata": {},
     "output_type": "execute_result"
    }
   ],
   "source": [
    "min_umi = knee[expected_num_cells]\n",
    "min_umi"
   ]
  },
  {
   "cell_type": "code",
   "execution_count": 21,
   "metadata": {},
   "outputs": [],
   "source": [
    "# Copy index into column\n",
    "adata.var[\"gene_id\"] = adata.var.index.values"
   ]
  },
  {
   "cell_type": "code",
   "execution_count": 22,
   "metadata": {},
   "outputs": [],
   "source": [
    "# Removes cells with less than min_umi umi counts\n",
    "adata = adata[np.asarray(adata_hvc1_f.X.sum(axis=1)).reshape(-1) > min_umi]\n",
    "\n",
    "# Removes genes with 0 umi counts\n",
    "adata = adata[:, np.asarray(adata_hvc1_f.X.sum(axis=0)).reshape(-1) > 0]"
   ]
  },
  {
   "cell_type": "code",
   "execution_count": 23,
   "metadata": {},
   "outputs": [
    {
     "data": {
      "text/plain": [
       "View of AnnData object with n_obs × n_vars = 10554 × 20114\n",
       "    var: 'gene_name', 'gene_id'"
      ]
     },
     "execution_count": 23,
     "metadata": {},
     "output_type": "execute_result"
    }
   ],
   "source": [
    "adata"
   ]
  },
  {
   "cell_type": "markdown",
   "metadata": {},
   "source": [
    "This is pretty close to the expected number of cells (approx 10k)."
   ]
  },
  {
   "cell_type": "markdown",
   "metadata": {},
   "source": [
    "Compute n_count (sum across axis 1 = sum of all molecules (no matter the gene) for each cell):"
   ]
  },
  {
   "cell_type": "code",
   "execution_count": 29,
   "metadata": {},
   "outputs": [],
   "source": [
    "# the `.A1` is only necessary as X is sparse (to transform to a dense array after summing)\n",
    "adata.obs['n_counts'] = adata.X.sum(axis=1).A1"
   ]
  },
  {
   "cell_type": "code",
   "execution_count": 30,
   "metadata": {},
   "outputs": [
    {
     "data": {
      "text/plain": [
       "AnnData object with n_obs × n_vars = 10554 × 20114\n",
       "    obs: 'n_counts'\n",
       "    var: 'gene_name', 'gene_id'"
      ]
     },
     "execution_count": 30,
     "metadata": {},
     "output_type": "execute_result"
    }
   ],
   "source": [
    "adata"
   ]
  },
  {
   "cell_type": "code",
   "execution_count": null,
   "metadata": {},
   "outputs": [],
   "source": []
  }
 ],
 "metadata": {
  "kernelspec": {
   "display_name": "Python 3",
   "language": "python",
   "name": "python3"
  },
  "language_info": {
   "codemirror_mode": {
    "name": "ipython",
    "version": 3
   },
   "file_extension": ".py",
   "mimetype": "text/x-python",
   "name": "python",
   "nbconvert_exporter": "python",
   "pygments_lexer": "ipython3",
   "version": "3.7.6"
  }
 },
 "nbformat": 4,
 "nbformat_minor": 4
}
