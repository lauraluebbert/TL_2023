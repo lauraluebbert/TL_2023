{
 "cells": [
  {
   "cell_type": "code",
   "execution_count": null,
   "metadata": {},
   "outputs": [],
   "source": [
    "!date"
   ]
  },
  {
   "cell_type": "markdown",
   "metadata": {},
   "source": [
    "# Comparison between control and experiment datasets\n",
    "#### Unfiltered data obtained from using kb with multimapping function. Ref genome includes WRE."
   ]
  },
  {
   "cell_type": "markdown",
   "metadata": {},
   "source": [
    "___"
   ]
  },
  {
   "cell_type": "code",
   "execution_count": null,
   "metadata": {},
   "outputs": [],
   "source": [
    "%config InlineBackend.figure_format = 'retina'\n",
    "%load_ext blackcellmagic"
   ]
  },
  {
   "cell_type": "code",
   "execution_count": null,
   "metadata": {},
   "outputs": [],
   "source": [
    "import sys\n",
    "import anndata\n",
    "# import scvi\n",
    "\n",
    "import scanpy as sc\n",
    "import numpy as np\n",
    "from scipy import stats\n",
    "\n",
    "from upsetplot import UpSet\n",
    "\n",
    "import matplotlib\n",
    "import matplotlib.pyplot as plt\n",
    "import matplotlib.patches as mpatches\n",
    "from matplotlib import cm\n",
    "\n",
    "# Custom violinplot code\n",
    "from plotting_funcs import violinplot\n",
    "\n",
    "import gget\n",
    "\n",
    "import pandas as pd\n",
    "\n",
    "sc.set_figure_params(figsize=(6, 6), frameon=False)\n",
    "sc.settings.n_jobs=2"
   ]
  },
  {
   "cell_type": "code",
   "execution_count": null,
   "metadata": {},
   "outputs": [],
   "source": [
    "# set random seed\n",
    "np.random.seed(926)"
   ]
  },
  {
   "cell_type": "code",
   "execution_count": null,
   "metadata": {},
   "outputs": [],
   "source": [
    "def nd(arr):\n",
    "    \"\"\"\n",
    "    Function to transform numpy matrix to nd array.\n",
    "    \"\"\"\n",
    "    return np.asarray(arr).reshape(-1)"
   ]
  },
  {
   "cell_type": "markdown",
   "metadata": {},
   "source": [
    "___"
   ]
  },
  {
   "cell_type": "markdown",
   "metadata": {},
   "source": [
    "# Load AnnData object"
   ]
  },
  {
   "cell_type": "code",
   "execution_count": null,
   "metadata": {},
   "outputs": [],
   "source": [
    "adata = anndata.read_h5ad(\"../../finchseq_data/all_celltype.h5ad\")\n",
    "adata"
   ]
  },
  {
   "cell_type": "markdown",
   "metadata": {},
   "source": [
    "Define masks to separate control and experiment datasets:"
   ]
  },
  {
   "cell_type": "code",
   "execution_count": null,
   "metadata": {},
   "outputs": [],
   "source": [
    "control_mask = np.logical_or(adata.obs[\"batch\"]==\"control1\", adata.obs[\"batch\"]==\"control2\")\n",
    "experiment_mask = np.logical_or(adata.obs[\"batch\"]==\"experiment1\", adata.obs[\"batch\"]==\"experiment2\")"
   ]
  },
  {
   "cell_type": "markdown",
   "metadata": {},
   "source": [
    "Add new obs column to separate between control and experiment in general, without separating between batches:"
   ]
  },
  {
   "cell_type": "code",
   "execution_count": null,
   "metadata": {},
   "outputs": [],
   "source": [
    "adata.obs[\"batch_g\"] = \"\"\n",
    "\n",
    "adata.obs.loc[control_mask, \"batch_g\"] = \"control\"\n",
    "adata.obs.loc[experiment_mask, \"batch_g\"] = \"experiment\"\n",
    "\n",
    "# Create columns containing general celltype assignment - ignoring cluster separation\n",
    "adata.obs['celltype_g'] = adata.obs['celltype'].str.replace('\\d+', '')\n",
    "\n",
    "adata.obs.head()"
   ]
  },
  {
   "cell_type": "markdown",
   "metadata": {},
   "source": [
    "Split experiment and control data into separate AnnData objects for violin plots:"
   ]
  },
  {
   "cell_type": "code",
   "execution_count": null,
   "metadata": {},
   "outputs": [],
   "source": [
    "adata_exp = adata[adata.obs.batch_g==\"experiment\"]\n",
    "adata_ctrl = adata[adata.obs.batch_g==\"control\"]"
   ]
  },
  {
   "cell_type": "markdown",
   "metadata": {},
   "source": [
    "Define standard set of celltypes to plot (excluding clusters with < 100 cells):"
   ]
  },
  {
   "cell_type": "code",
   "execution_count": null,
   "metadata": {},
   "outputs": [],
   "source": [
    "celltypes_standard = [\n",
    "    \"GABAergic neurons 1\",\n",
    "    \"GABAergic neurons 2\",\n",
    "    \"astrocytes 1\",\n",
    "    \"astrocytes 2\",\n",
    "    \"glutamatergic neurons 1\",\n",
    "    \"glutamatergic neurons 2\",\n",
    "    \"glutamatergic neurons 3\",\n",
    "    \"glutamatergic neurons 4\",\n",
    "    \"microglia 1\",\n",
    "    \"microglia 2\",\n",
    "    \"migrating neuroblasts\",\n",
    "    \"mural / vascular endothelial cells 1\",\n",
    "    \"mural cells 2\",\n",
    "    \"oligodendrocyte precursor cells\",\n",
    "    \"oligodendrocytes 1\",\n",
    "    \"oligodendrocytes 2\",\n",
    "    \"radial glia 1\",\n",
    "    \"radial glia 2\",\n",
    "    \"red blood cells\",\n",
    "]"
   ]
  },
  {
   "cell_type": "markdown",
   "metadata": {},
   "source": [
    "___"
   ]
  },
  {
   "cell_type": "markdown",
   "metadata": {
    "id": "VcodoHCloXm7"
   },
   "source": [
    "# Load marker genes"
   ]
  },
  {
   "cell_type": "code",
   "execution_count": null,
   "metadata": {
    "id": "vpE1kNxmoXm7"
   },
   "outputs": [],
   "source": [
    "marker_gene_mat = pd.read_excel('marker_genes.xlsx', sheet_name=\"matrix_v2\")"
   ]
  },
  {
   "cell_type": "markdown",
   "metadata": {
    "id": "nWskytnBoXm8"
   },
   "source": [
    "Find gene ID for each gene:"
   ]
  },
  {
   "cell_type": "code",
   "execution_count": null,
   "metadata": {
    "id": "xBRejdyBoXm8"
   },
   "outputs": [],
   "source": [
    "marker_gene_mat[\"gene_name_id\"] = np.arange(len(marker_gene_mat))"
   ]
  },
  {
   "cell_type": "code",
   "execution_count": null,
   "metadata": {
    "id": "Okwpu1mCoXm8",
    "outputId": "299da304-3e5a-4eae-94ea-9433b1211ed2"
   },
   "outputs": [],
   "source": [
    "# index counter\n",
    "i = 0\n",
    "\n",
    "for gene in marker_gene_mat[\"Gene\"].values:\n",
    "    gene_name_id = []\n",
    "    \n",
    "    if gene.startswith(\"ENS\"):\n",
    "        gni = adata.var.iloc[np.where(adata.var.index.str.contains(gene))]\n",
    "    \n",
    "    else:\n",
    "        gni = adata.var.iloc[np.where(adata.var.index.str.startswith(gene))]\n",
    "\n",
    "    if len(gni) > 0:\n",
    "        gene_name_id = gni.index[0]\n",
    "    else:\n",
    "        gene_name_id = np.nan\n",
    "\n",
    "    marker_gene_mat[\"gene_name_id\"][i] = gene_name_id\n",
    "    i += 1"
   ]
  },
  {
   "cell_type": "markdown",
   "metadata": {},
   "source": [
    "Notes on the marker genes:  \n",
    "FNDC9 is a synonym for FNTM2 (HVC-X marker).  \n",
    "PDGFRA (ENSTGUG00000007756.2) not annotated.  \n",
    "or107-1 is a synonym for ZF1A (neither, not even ensembl ID, can be found in ref).  \n",
    "Ki67 (ENSTGUG00000021193) not annotated. \n",
    "\n",
    "SOX4 and PDGFRA not in reference genome gtf. This is weird because Colquitt et al report using them as a markers and they use the same ref. genome.\n",
    "\n",
    "ZF1A, EJZER1, and AR46s also not in ref gtf (not used in Colquitt paper)."
   ]
  },
  {
   "cell_type": "code",
   "execution_count": null,
   "metadata": {
    "id": "ldE8sacRoXm8",
    "outputId": "b0932542-03ba-4c71-b225-ecb3f0b23028"
   },
   "outputs": [],
   "source": [
    "# Drop rows with genes not found in dataset\n",
    "marker_gene_mat = marker_gene_mat.dropna(axis=0)\n",
    "\n",
    "# Drop columns of celltypes containing only 0s\n",
    "marker_gene_mat = marker_gene_mat.loc[:, (marker_gene_mat != 0).any(axis=0)]\n",
    " \n",
    "#Set gene_name_id as index and drop \"gene\" coplumn\n",
    "marker_gene_mat = marker_gene_mat.set_index(\"gene_name_id\")\n",
    "marker_gene_mat = marker_gene_mat.drop(\"Gene\", axis=1)\n",
    "\n",
    "marker_gene_mat.head()"
   ]
  },
  {
   "cell_type": "markdown",
   "metadata": {},
   "source": [
    "___"
   ]
  },
  {
   "cell_type": "markdown",
   "metadata": {},
   "source": [
    "# Plot WRE expression"
   ]
  },
  {
   "cell_type": "code",
   "execution_count": null,
   "metadata": {},
   "outputs": [],
   "source": [
    "genes = [\n",
    "    \"WRE_WRE\"\n",
    "    ]\n",
    "labels = genes\n",
    "celltypes = celltypes_standard\n",
    "\n",
    "violinplot(\n",
    "    adata_exp,\n",
    "    adata_ctrl,\n",
    "    genes,\n",
    "    labels,\n",
    "    celltypes,\n",
    "    fig_name=\"WRE\",\n",
    "    fold_change_min=1.5,\n",
    "    figsize=(15,1)\n",
    ")"
   ]
  },
  {
   "cell_type": "markdown",
   "metadata": {},
   "source": [
    "___"
   ]
  },
  {
   "cell_type": "markdown",
   "metadata": {},
   "source": [
    "# Where are neurogenesis markers, immediate early genes, and proliferation markers expressed?"
   ]
  },
  {
   "cell_type": "code",
   "execution_count": null,
   "metadata": {},
   "outputs": [],
   "source": [
    "neurogenesis = marker_gene_mat.loc[marker_gene_mat['mammalian neurogenesis'] != 0].index.values\n",
    "activity = marker_gene_mat.loc[marker_gene_mat['immediate early genes'] != 0].index.values\n",
    "# proliferation = marker_gene_mat.loc[marker_gene_mat['proliferation'] != 0].index.values"
   ]
  },
  {
   "cell_type": "code",
   "execution_count": null,
   "metadata": {},
   "outputs": [],
   "source": [
    "genes = neurogenesis\n",
    "labels = genes\n",
    "celltypes = celltypes_standard\n",
    "\n",
    "violinplot(\n",
    "    adata_exp,\n",
    "    adata_ctrl,\n",
    "    genes,\n",
    "    labels,\n",
    "    celltypes,\n",
    "    fig_name=\"neurogenesis\",\n",
    "    fold_change_min=1.5,\n",
    "    figsize=None\n",
    ")"
   ]
  },
  {
   "cell_type": "code",
   "execution_count": null,
   "metadata": {},
   "outputs": [],
   "source": [
    "genes = activity\n",
    "labels = genes\n",
    "celltypes = celltypes_standard\n",
    "\n",
    "violinplot(\n",
    "    adata_exp,\n",
    "    adata_ctrl,\n",
    "    genes,\n",
    "    labels,\n",
    "    celltypes,\n",
    "    fig_name=\"IEG\",\n",
    "    fold_change_min=1.5,\n",
    "    figsize=None\n",
    ")"
   ]
  },
  {
   "cell_type": "markdown",
   "metadata": {},
   "source": [
    "___"
   ]
  },
  {
   "cell_type": "markdown",
   "metadata": {
    "id": "qTRBlbiRoXnD"
   },
   "source": [
    "## Does each celltype cluster contain an equal number of cells from each batch/dataset?"
   ]
  },
  {
   "cell_type": "markdown",
   "metadata": {
    "id": "pTb1XJdXoXnE"
   },
   "source": [
    "Let's look at the actual number of cells from each batch for each celltype:"
   ]
  },
  {
   "cell_type": "code",
   "execution_count": null,
   "metadata": {},
   "outputs": [],
   "source": [
    "# Normalize each celltype count to total number of cells in that batch by dividing\n",
    "df_normalized = (adata.obs.groupby(\"celltype\")[\"batch\"].value_counts() / adata.obs.groupby(\"batch\")[\"species\"].count()).unstack().fillna(0)\n",
    "df_normalized.columns = df_normalized.columns.astype(str)\n",
    "df_normalized[\"total normalized count\"] = df_normalized.sum(axis=1).values\n",
    "\n",
    "df_normalized[\"control1_fraction\"] = (df_normalized[\"control1\"] / df_normalized[\"total normalized count\"]).values\n",
    "df_normalized[\"control2_fraction\"] = (df_normalized[\"control2\"] / df_normalized[\"total normalized count\"]).values\n",
    "df_normalized[\"experiment1_fraction\"] = (df_normalized[\"experiment1\"] / df_normalized[\"total normalized count\"]).values\n",
    "df_normalized[\"experiment2_fraction\"] = (df_normalized[\"experiment2\"] / df_normalized[\"total normalized count\"]).values\n",
    "\n",
    "df_normalized[\"total cellcount\"] = adata.obs.groupby(\"celltype\").size().values.astype(int)\n",
    "\n",
    "df_normalized"
   ]
  },
  {
   "cell_type": "code",
   "execution_count": null,
   "metadata": {
    "id": "Nad3BRdYoXnE",
    "outputId": "7f2c98a2-ecf7-4b58-9e50-e3d12064c55e"
   },
   "outputs": [],
   "source": [
    "fig, ax = plt.subplots(figsize=(20, 5))\n",
    "width = 0.75\n",
    "\n",
    "clusters = df_normalized.index.values\n",
    "cellcounts = df_normalized[\"total cellcount\"].values\n",
    "\n",
    "ax.bar(\n",
    "    clusters,\n",
    "    df_normalized[\"control1_fraction\"].values,\n",
    "    width,\n",
    "    color=\"navy\",\n",
    "    label=\"Control 1\",\n",
    ")\n",
    "ax.bar(\n",
    "    clusters,\n",
    "    df_normalized[\"control2_fraction\"].values,\n",
    "    width,\n",
    "    bottom=df_normalized[\"control1_fraction\"].values,\n",
    "    color=\"mediumblue\",\n",
    "    label=\"Control 2\",\n",
    ")\n",
    "ax.bar(\n",
    "    clusters,\n",
    "    df_normalized[\"experiment1_fraction\"].values,\n",
    "    width,\n",
    "    bottom=df_normalized[\"control2_fraction\"].values\n",
    "    + df_normalized[\"control1_fraction\"].values,\n",
    "    color=\"orange\",\n",
    "    label=\"TetX 1\",\n",
    ")\n",
    "ax.bar(\n",
    "    clusters,\n",
    "    df_normalized[\"experiment2_fraction\"].values,\n",
    "    width,\n",
    "    bottom=df_normalized[\"experiment1_fraction\"].values\n",
    "    + df_normalized[\"control2_fraction\"].values\n",
    "    + df_normalized[\"control1_fraction\"].values,\n",
    "    color=\"darkorange\",\n",
    "    label=\"TetX 2\",\n",
    ")\n",
    "\n",
    "# Add value above each bar\n",
    "for index, value in enumerate(cellcounts):\n",
    "    ax.text(x = index, y = 1.01, s = value, size = 10, ha='center')\n",
    "\n",
    "ax.set_xticklabels(clusters, rotation=45, ha=\"right\")\n",
    "\n",
    "ax.legend(bbox_to_anchor=(1.001, 1.025), loc=\"upper left\")\n",
    "\n",
    "ax.set(\n",
    "    **{\n",
    "        \"title\": \"Cell count distribution (normalized to total number of cells in batch)\",\n",
    "        \"ylabel\": \"Fraction of cells\",\n",
    "        \"xlabel\": \"Celltypes\"\n",
    "    }\n",
    ")\n",
    "\n",
    "ax.axhline(y=0.5, color=\"r\", linestyle=\"-\")\n",
    "\n",
    "ax.margins(x=0.01, y=0.06)\n",
    "ax.grid(False)\n",
    "\n",
    "plt.savefig(\"figures/4_cellcounts_perc_joint_clustered.png\", dpi=300, bbox_inches=\"tight\")\n",
    "plt.savefig(\"figures/4_cellcounts_perc_joint_clustered.pdf\", dpi=300, bbox_inches=\"tight\")\n",
    "\n",
    "fig.show()"
   ]
  },
  {
   "cell_type": "markdown",
   "metadata": {},
   "source": [
    "# Plot ln(FC)"
   ]
  },
  {
   "cell_type": "code",
   "execution_count": null,
   "metadata": {},
   "outputs": [],
   "source": [
    "fig, ax = plt.subplots(figsize=(20, 5))\n",
    "\n",
    "exp = df_normalized[[\"experiment1\", \"experiment2\"]].sum(axis=1)\n",
    "ctrl = df_normalized[[\"control1\", \"control2\"]].sum(axis=1)\n",
    "\n",
    "x = df_normalized.index.values\n",
    "y = []\n",
    "cell_counts = df_normalized[\"total cellcount\"].values\n",
    "cell_color = \"navy\"\n",
    "\n",
    "counter = 0\n",
    "del_idx = []\n",
    "\n",
    "# Calculate log(fold change)\n",
    "for i, exp_value in enumerate(exp):\n",
    "    if cell_counts[i] < 100:\n",
    "        # Collect indeces of labels to delete from x labels\n",
    "        del_idx.append(i)\n",
    "        continue\n",
    "    else:\n",
    "        y_temp = np.log(exp_value / ctrl[i])\n",
    "        y.append(y_temp)\n",
    "        if exp_value >= ctrl[i]:\n",
    "            ax.text(x = counter, y = y_temp + 0.1, s = cell_counts[i], size = 10, ha='center', c=cell_color)\n",
    "        if ctrl[i] >= exp_value:\n",
    "            ax.text(x = counter, y = y_temp - 0.2, s = cell_counts[i], size = 10, ha='center', c=cell_color)\n",
    "        counter +=1\n",
    "\n",
    "x = np.delete(x, del_idx)\n",
    "\n",
    "# Plot stem/scatter plot\n",
    "ax.vlines(x, 0, y, color=\"black\", linestyle=\"-\", lw=1, zorder=-1)\n",
    "ax.scatter(x , y, c=\"crimson\", s=75)\n",
    "\n",
    "ax.set(\n",
    "    **{\n",
    "        \"title\": \"ln(Fold Change) in cellcount between experiment and control\",\n",
    "        \"ylabel\": \"ln(cellcount$_{tetx}$ / cellcount$_{control}$)\",\n",
    "        \"ylim\": (-1.7, 1.7)\n",
    "        #     \"xlabel\": \"Celltypes\"\n",
    "    }\n",
    ")\n",
    "\n",
    "# ax.set_yscale('log')\n",
    "\n",
    "# labels = [\"\", \"3\", \"2\", \"1\", \"0\", \"1\", \"2\", \"3\"]\n",
    "# ax.set_yticklabels(labels)\n",
    "\n",
    "ax.axhline(y=0, color=\"black\", linestyle=\"-\", lw=1, zorder=-1)\n",
    "ax.set_xticklabels(x, rotation=45, ha=\"right\")\n",
    "\n",
    "ax.text(0, np.log(3)+0.05, \"Fold Change = 3\", ha=\"left\", size=10, c='red')\n",
    "ax.axhline(y=np.log(3), color=\"red\", linestyle=\"--\", lw=1, zorder=-1)\n",
    "ax.axhline(y=-np.log(3), color=\"red\", linestyle=\"--\", lw=1, zorder=-1)\n",
    "\n",
    "# Add blocks and text separating each comparison category\n",
    "ax.axhspan(-1.7, 0, facecolor='aliceblue', alpha=0.5, zorder=-1)\n",
    "ax.axhspan(0, 1.7, facecolor='moccasin', alpha=0.5, zorder=-1)\n",
    "ax.text(0, -1.55, \"cellcount$_{control}$ > cellcount$_{tetx}$\", ha=\"left\", size=13)\n",
    "ax.text(0, 1.45, \"cellcount$_{tetx}$ > cellcount$_{control}$\", ha=\"left\", size=13)\n",
    "ax.text(18, 1.45, \"Total number of cells in cluster\", ha=\"right\", c=cell_color, size=13)\n",
    "\n",
    "ax.margins(x=0.01, y=0.01)\n",
    "ax.grid(False)\n",
    "ax.xaxis.grid(color='gray', ls='--', lw=0.1)\n",
    "ax.yaxis.grid(color='gray', ls='--', lw=0.1)\n",
    "ax.set_axisbelow(True)\n",
    "\n",
    "plt.savefig(\"figures/4_cellcounts_joint_clustered.png\", dpi=300, bbox_inches=\"tight\")\n",
    "plt.savefig(\"figures/4_cellcounts_joint_clustered.pdf\", dpi=300, bbox_inches=\"tight\")\n",
    "\n",
    "fig.show()"
   ]
  },
  {
   "cell_type": "markdown",
   "metadata": {},
   "source": [
    "It looks like there are a fold change of 2 more microglia in the experiment data. This is consistent for all clusters of microglia. There is also one cluster of glutamatergic neurons that has 2x more cells in the control data."
   ]
  },
  {
   "cell_type": "markdown",
   "metadata": {},
   "source": [
    "### Same for connectivity inside glutamatergic neurons"
   ]
  },
  {
   "cell_type": "code",
   "execution_count": null,
   "metadata": {},
   "outputs": [],
   "source": [
    "# Normalize each celltype count to total number of cells in that batch by dividing\n",
    "df_conn_norm = (adata.obs.groupby(\"connectivity\")[\"batch\"].value_counts() / adata.obs.groupby(\"batch\")[\"species\"].count()).unstack().fillna(0)\n",
    "df_conn_norm.columns = df_conn_norm.columns.astype(str)\n",
    "df_conn_norm[\"total normalized count\"] = df_conn_norm.sum(axis=1).values\n",
    "\n",
    "df_conn_norm[\"control1_fraction\"] = (df_conn_norm[\"control1\"] / df_conn_norm[\"total normalized count\"]).values\n",
    "df_conn_norm[\"control2_fraction\"] = (df_conn_norm[\"control2\"] / df_conn_norm[\"total normalized count\"]).values\n",
    "df_conn_norm[\"experiment1_fraction\"] = (df_conn_norm[\"experiment1\"] / df_conn_norm[\"total normalized count\"]).values\n",
    "df_conn_norm[\"experiment2_fraction\"] = (df_conn_norm[\"experiment2\"] / df_conn_norm[\"total normalized count\"]).values\n",
    "\n",
    "df_conn_norm[\"total cell count\"] = adata.obs.groupby(\"connectivity\").size().values.astype(int)\n",
    "\n",
    "# Drop rows that do not correspond to glutamatergic neurons\n",
    "df_conn_norm = df_conn_norm[-4:]\n",
    "\n",
    "df_conn_norm"
   ]
  },
  {
   "cell_type": "code",
   "execution_count": null,
   "metadata": {},
   "outputs": [],
   "source": [
    "fig, ax = plt.subplots(figsize=(10, 5))\n",
    "\n",
    "exp = df_conn_norm[[\"experiment1\", \"experiment2\"]].sum(axis=1)\n",
    "ctrl = df_conn_norm[[\"control1\", \"control2\"]].sum(axis=1)\n",
    "\n",
    "x = df_conn_norm.index.values\n",
    "y = []\n",
    "cell_counts = df_conn_norm[\"total cell count\"].values\n",
    "cell_color = \"navy\"\n",
    "\n",
    "counter = 0\n",
    "\n",
    "# Calculate fold change in both directions (exp > ctrl and ctrl > exp)\n",
    "for i, exp_value in enumerate(exp):\n",
    "    if exp_value > ctrl[i]:\n",
    "        y_temp = (exp_value-ctrl[i]) / ctrl[i]\n",
    "        y.append(y_temp)\n",
    "        ax.text(x = counter, y = y_temp + 0.2, s = cell_counts[i], size = 10, ha='center', c=cell_color)\n",
    "        counter +=1\n",
    "    else:\n",
    "        y_temp = np.negative((ctrl[i]-exp_value) / exp_value)\n",
    "        y.append(y_temp)\n",
    "        ax.text(x = counter, y = y_temp - 0.45, s = cell_counts[i], size = 10, ha='center', c=cell_color)\n",
    "        counter +=1    \n",
    "\n",
    "# Plot stem/scatter plot\n",
    "ax.vlines(x, 0, y, color=\"black\", linestyle=\"-\", lw=1, zorder=-1)\n",
    "ax.scatter(x , y, c=\"crimson\", s=75)\n",
    "\n",
    "ax.set(\n",
    "    **{\n",
    "        \"title\": \"Fold change in cellcount between experiment and control\",\n",
    "        \"ylabel\": \"$Δcellcount / cellcount_0$ \",\n",
    "        \"ylim\": (-3, 3)\n",
    "        #     \"xlabel\": \"Celltypes\"\n",
    "    }\n",
    ")\n",
    "\n",
    "labels = [\"3\", \"2\", \"1\", \"0\", \"1\", \"2\", \"3\"]\n",
    "ax.set_yticklabels(labels)\n",
    "\n",
    "ax.axhline(y=0, color=\"black\", linestyle=\"-\", lw=1, zorder=-1)\n",
    "ax.set_xticklabels(x, rotation=45, ha=\"right\")\n",
    "\n",
    "# Add blocks and text separating each comparison category\n",
    "ax.axhspan(-3, 0, facecolor='aliceblue', alpha=0.5, zorder=-1)\n",
    "ax.axhspan(0, 3, facecolor='moccasin', alpha=0.5, zorder=-1)\n",
    "ax.text(-0.1, -2.75, \"Control > experiment\", ha=\"left\", size=13)\n",
    "ax.text(-0.1, 2.5, \"Experiment > control\", ha=\"left\", size=13)\n",
    "ax.text(3.1, 2.5, \"Total number of cells in cluster\", ha=\"right\", c=cell_color, size=13)\n",
    "\n",
    "ax.margins(x=0.05, y=0.05)\n",
    "ax.grid(False)\n",
    "ax.xaxis.grid(color='gray', ls='--', lw=0.1)\n",
    "ax.yaxis.grid(color='gray', ls='--', lw=0.1)\n",
    "ax.set_axisbelow(True)\n",
    "\n",
    "fig.show()"
   ]
  },
  {
   "cell_type": "markdown",
   "metadata": {},
   "source": [
    "___"
   ]
  },
  {
   "cell_type": "markdown",
   "metadata": {},
   "source": [
    "# DE genes in microglia between control and exp"
   ]
  },
  {
   "cell_type": "code",
   "execution_count": null,
   "metadata": {},
   "outputs": [],
   "source": [
    "adata_mglia = adata[np.char.startswith(nd(adata.obs.celltype.values).astype(str), \"microglia\")]\n",
    "adata_mglia"
   ]
  },
  {
   "cell_type": "code",
   "execution_count": null,
   "metadata": {},
   "outputs": [],
   "source": [
    "sc.tl.rank_genes_groups(adata_mglia, groupby=\"batch_g\", use_raw=False)"
   ]
  },
  {
   "cell_type": "code",
   "execution_count": null,
   "metadata": {},
   "outputs": [],
   "source": [
    "sc.pl.rank_genes_groups(adata_mglia, n_genes=10, sharey=True, save=False, ncols=2)"
   ]
  },
  {
   "cell_type": "code",
   "execution_count": null,
   "metadata": {},
   "outputs": [],
   "source": [
    "mglia_markers = pd.DataFrame(adata_mglia.uns['rank_genes_groups']['names']).head(20)"
   ]
  },
  {
   "cell_type": "markdown",
   "metadata": {},
   "source": [
    "Perform pathway enrichment analysis on gene upregulated in tetX microglia:"
   ]
  },
  {
   "cell_type": "code",
   "execution_count": null,
   "metadata": {},
   "outputs": [],
   "source": [
    "mglia_de_genes = []\n",
    "for gene in mglia_markers[\"experiment\"].values:\n",
    "    mglia_de_genes.append(gene.split(\"_\")[1])\n",
    "    \n",
    "enrichr_df = gget.enrichr(mglia_de_genes, database=\"ontology\", ensembl=True, plot=True)"
   ]
  },
  {
   "cell_type": "code",
   "execution_count": null,
   "metadata": {},
   "outputs": [],
   "source": [
    "mglia_markers[\"experiment_gene\"] = [\n",
    "    \"class I histocompatibility antigen, F10 alpha chain-like\",\n",
    "    \"interferon, alpha-inducible protein 6\",\n",
    "    \"C-C motif chemokine 3-like (CCL3L3)\",\n",
    "    \"ferritin, higher subunit\",\n",
    "    \"ribosomal protein S18-like (RPS18)\",\n",
    "    \"novel gene\",\n",
    "    \"ribosomal protein L17\",\n",
    "    \"ribosomal protein S7\",\n",
    "    \"HRAS-like suppressor-like\",\n",
    "    \"ribosomal protein S20\",\n",
    "    \"novel gene\",\n",
    "    \"Ribosomal Protein L6\",\n",
    "    \"novel gene\",\n",
    "    \"small nuclear ribonucleoprotein G\",\n",
    "    \"class I histocompatibility antigen, F10 alpha chain-like\",\n",
    "    \"Ribosomal Protein L23\",\n",
    "    \"novel gene\",\n",
    "    \"novel gene\",\n",
    "    \"novel gene\",\n",
    "    \"Serglycin\"\n",
    "]\n",
    "\n",
    "mglia_markers[\"experiment_gene_function\"] = [\n",
    "    \"Antigen processing and presentation of peptide antigen via MHC class I (UniProtKB - P15979 (HA1F_CHICK))\",\n",
    "    \"Plays a role in apoptosis, negatively regulating the intrinsinc apoptotic signaling pathway and TNFSF10-induced apoptosis (PubMed:15685448, PubMed:17823654, PubMed:26244642)\",\n",
    "    \"Cytokines are a family of secreted proteins that function in inflammatory and immunoregulatory processes. The protein encoded by this gene binds to several chemokine receptors, including chemokine binding protein 2 and chemokine (C-C motif) receptor 5 (CCR5). CCR5 is a co-receptor for HIV, and binding of this protein to CCR5 inhibits HIV entry.\",\n",
    "    \"Ferritin is the major intracellular iron storage protein in prokaryotes and eukaryotes. \",\n",
    "    \"This gene encodes a ribosomal protein that is a component of the 40S subunit.\",\n",
    "    \"novel gene\",\n",
    "    \"Ribosomal protein that is a component of the 60S subunit. Among its related pathways are MAPK Signaling: Mitogens and Viral mRNA Translation.\",\n",
    "    \"This gene encodes a ribosomal protein that is a component of the 40S subunit. Among its related pathways are Viral mRNA Translation.\",\n",
    "    \"The protein encoded by this gene has both phospholipase and acyltransferase activities and acts as a tumor suppressor. \",\n",
    "    \"This gene encodes a ribosomal protein that is a component of the 40S subunit.\",\n",
    "    \"novel gene\",\n",
    "    \"component of the 60S ribosomal subunit\",\n",
    "    \"novel gene\",\n",
    "    \"component of the U1, U2, U4, and U5 small nuclear ribonucleoprotein complexes\",\n",
    "    \"Antigen processing and presentation of peptide antigen via MHC class I\",\n",
    "    \"component of the 60S subunit\",\n",
    "    \"novel gene\",\n",
    "    \"novel gene\",\n",
    "    \"novel gene\",\n",
    "    \"encodes a protein best known as a hematopoietic cell granule proteoglycan. Proteoglycans stored in the secretory granules of many hematopoietic cells also contain a protease-resistant peptide core, which may be important for neutralizing hydrolytic enzymes. This encoded protein was found to be associated with the macromolecular complex of granzymes and perforin, which may serve as a mediator of granule-mediated apoptosis. Might activate NMDAR https://jneuroinflammation.biomedcentral.com/articles/10.1186/s12974-019-1504-6\"\n",
    "]\n",
    "\n",
    "pd.set_option('display.max_colwidth', None)\n",
    "mglia_markers"
   ]
  },
  {
   "cell_type": "markdown",
   "metadata": {},
   "source": [
    "___"
   ]
  },
  {
   "cell_type": "markdown",
   "metadata": {},
   "source": [
    "# DE genes in glutamatergic neurons between control and exp"
   ]
  },
  {
   "cell_type": "code",
   "execution_count": null,
   "metadata": {},
   "outputs": [],
   "source": [
    "adata_glut = adata[np.char.startswith(nd(adata.obs.celltype.values).astype(str), \"glut\")]\n",
    "adata_glut"
   ]
  },
  {
   "cell_type": "code",
   "execution_count": null,
   "metadata": {},
   "outputs": [],
   "source": [
    "sc.tl.rank_genes_groups(adata_glut, groupby=\"batch_g\", use_raw=False)"
   ]
  },
  {
   "cell_type": "code",
   "execution_count": null,
   "metadata": {},
   "outputs": [],
   "source": [
    "sc.pl.rank_genes_groups(adata_glut, n_genes=10, sharey=True, save=False, ncols=2)"
   ]
  },
  {
   "cell_type": "code",
   "execution_count": null,
   "metadata": {},
   "outputs": [],
   "source": [
    "mglut_markers = pd.DataFrame(adata_glut.uns['rank_genes_groups']['names']).head(20)"
   ]
  },
  {
   "cell_type": "code",
   "execution_count": null,
   "metadata": {},
   "outputs": [],
   "source": [
    "mglut_markers[\"experiment_gene\"] = [\n",
    "    \"class I histocompatibility antigen, F10 alpha chain-like\",\n",
    "    \"interferon, alpha-inducible protein 6\",\n",
    "    \"Beta-2-Microglobulin (B2M)\",\n",
    "    \"ectonucleotide pyrophosphatase/phosphodiesterase 2 \",\n",
    "    \"Tubulin Beta 4B Class IVb\",\n",
    "    \"Casein Kinase 1 Delta\",\n",
    "    \"ferritin, higher subunit\",\n",
    "    \"ribonuclease kappa (RBCK)\",\n",
    "    \"histone deacetylase 7-like (HDAC7)\",\n",
    "    \"novel gene\",\n",
    "    \"\",\n",
    "    \"\",\n",
    "    \"\",\n",
    "    \"\",\n",
    "    \"\",\n",
    "    \"\",\n",
    "    \"\",\n",
    "    \"\",\n",
    "    \"\",\n",
    "    \"\"\n",
    "]\n",
    "\n",
    "mglut_markers[\"experiment_gene_function\"] = [\n",
    "    \"Antigen processing and presentation of peptide antigen via MHC class I (UniProtKB - P15979 (HA1F_CHICK))\",\n",
    "    \"Plays a role in apoptosis, negatively regulating the intrinsinc apoptotic signaling pathway and TNFSF10-induced apoptosis (PubMed:15685448, PubMed:17823654, PubMed:26244642\",\n",
    "    \"Component of the class I major histocompatibility complex (MHC). Involved in the presentation of peptide antigens to the immune system. \",\n",
    "    \"The protein encoded by this gene functions as both a phosphodiesterase, which cleaves phosphodiester bonds at the 5' end of oligonucleotides, and a phospholipase, which catalyzes production of lysophosphatidic acid (LPA) in extracellular fluids. LPA evokes growth factor-like responses including stimulation of cell proliferation and chemotaxis.\",\n",
    "    \"Tubulin is the major constituent of microtubules.\",\n",
    "    \"This gene is a member of the casein kinase I (CKI) gene family whose members have been implicated in the control of cytoplasmic and nuclear processes, including DNA replication and repair. The encoded protein may also be involved in the regulation of apoptosis, circadian rhythm, microtubule dynamics, chromosome segregation, and p53-mediated effects on growth.\",\n",
    "    \"Ferritin is the major intracellular iron storage protein in prokaryotes and eukaryotes.\",\n",
    "    \"Endoribonuclease which preferentially cleaves ApU and ApG phosphodiester bonds. Hydrolyzes UpU bonds at a lower rate (RNK_HUMAN,Q6P5S7). Required for the initial stages of clathrin-mediated endocytic uptake of a diverse set of viruses, including dengue, West Nile, Sindbis, Rift Valley Fever, and influenza viruses (PubMed:26056282). Not required for clathrin-mediated endocytosis and macropinocytosis (PubMed:26056282).\",\n",
    "    \"Responsible for the deacetylation of lysine residues on the N-terminal part of the core histones (H2A, H2B, H3 and H4). Histone deacetylation gives a tag for epigenetic repression and plays an important role in transcriptional regulation, cell cycle progression and developmental events.\",\n",
    "    \"novel gene\",\n",
    "    \"\",\n",
    "    \"\",\n",
    "    \"\",\n",
    "    \"\",\n",
    "    \"\",\n",
    "    \"\",\n",
    "    \"\",\n",
    "    \"\",\n",
    "    \"\",\n",
    "    \"\"\n",
    "]\n",
    "\n",
    "pd.set_option('display.max_colwidth', None)\n",
    "mglut_markers"
   ]
  },
  {
   "cell_type": "markdown",
   "metadata": {},
   "source": [
    "___"
   ]
  },
  {
   "cell_type": "markdown",
   "metadata": {},
   "source": [
    "# DE genes in GABAergic neurons between control and exp"
   ]
  },
  {
   "cell_type": "code",
   "execution_count": null,
   "metadata": {},
   "outputs": [],
   "source": [
    "adata_gaba = adata[np.char.startswith(nd(adata.obs.celltype.values).astype(str), \"GABA\")]\n",
    "adata_gaba"
   ]
  },
  {
   "cell_type": "code",
   "execution_count": null,
   "metadata": {},
   "outputs": [],
   "source": [
    "sc.tl.rank_genes_groups(adata_gaba, groupby=\"batch_g\", use_raw=False)"
   ]
  },
  {
   "cell_type": "code",
   "execution_count": null,
   "metadata": {},
   "outputs": [],
   "source": [
    "sc.pl.rank_genes_groups(adata_gaba, n_genes=10, sharey=True, save=False, ncols=2)"
   ]
  },
  {
   "cell_type": "code",
   "execution_count": null,
   "metadata": {},
   "outputs": [],
   "source": [
    "mgaba_markers = pd.DataFrame(adata_gaba.uns['rank_genes_groups']['names']).head(20)"
   ]
  },
  {
   "cell_type": "code",
   "execution_count": null,
   "metadata": {},
   "outputs": [],
   "source": [
    "mgaba_markers[\"experiment_gene\"] = [\n",
    "    \"Class I histocompatibility antigen, F10 alpha chain-like\",\n",
    "    \"Interferon Alpha Inducible Protein 6\",\n",
    "    \"Casein Kinase 1 Delta\",\n",
    "    \"novel gene\",\n",
    "    \"Extracellular fatty acid-binding protein-like\",\n",
    "    \"Clusterin\",\n",
    "    \"Apolipoprotein A1\",\n",
    "    \"Ferritin, higher subunit\",\n",
    "    \"Histone deacetylase 7-like (HDAC7)\",\n",
    "    \"Sodium voltage-gated channel alpha subunit 2 (SCN2A)\",\n",
    "        \"\",\n",
    "    \"\",\n",
    "    \"\",\n",
    "    \"\",\n",
    "    \"\",\n",
    "    \"\",\n",
    "    \"\",\n",
    "    \"\",\n",
    "    \"\",\n",
    "    \"\"\n",
    "]\n",
    "\n",
    "mgaba_markers[\"experiment_gene_function\"] = [\n",
    "    \"Antigen processing and presentation of peptide antigen via MHC class I (UniProtKB - P15979 (HA1F_CHICK))\",\n",
    "    \"Plays a role in apoptosis, negatively regulating the intrinsinc apoptotic signaling pathway and TNFSF10-induced apoptosis (PubMed:15685448, PubMed:17823654, PubMed:26244642). However, it has also been shown to have a pro-apoptotic activity (PubMed:27673746). Has an antiviral activity towards hepatitis C virus/HCV by inhibiting the EGFR signaling pathway, which activation is required for entry of the virus into cells (PubMed:25757571).\",\n",
    "    \"Essential serine/threonine-protein kinase that regulates diverse cellular growth and survival processes including Wnt signaling, DNA repair and circadian rhythms.\",\n",
    "    \"novel gene\",\n",
    "    \"**This gene was also DE in the hvcxra undefined cluster\",\n",
    "    \"The protein encoded by this gene is a secreted chaperone that can under some stress conditions also be found in the cell cytosol. It has been suggested to be involved in several basic biological events such as cell death, tumor progression, and neurodegenerative disorders.\",\n",
    "    \"This gene encodes apolipoprotein A-I, which is the major protein component of high density lipoprotein (HDL) in plasma. The encoded preproprotein is proteolytically processed to generate the mature protein, which promotes cholesterol efflux from tissues to the liver for excretion, and is a cofactor for lecithin cholesterolacyltransferase (LCAT), an enzyme responsible for the formation of most plasma cholesteryl esters. This gene is closely linked with two other apolipoprotein genes on chromosome 11. Defects in this gene are associated with HDL deficiencies, including Tangier disease, and with systemic non-neuropathic amyloidosis.\",\n",
    "    \"Ferritin is the major intracellular iron storage protein in prokaryotes and eukaryotes.\",\n",
    "    \"Responsible for the deacetylation of lysine residues on the N-terminal part of the core histones (H2A, H2B, H3 and H4). Histone deacetylation gives a tag for epigenetic repression and plays an important role in transcriptional regulation, cell cycle progression and developmental events. Histone deacetylases act via the formation of large multiprotein complexes. Involved in muscle maturation by repressing transcription of myocyte enhancer factors such as MEF2A, MEF2B and MEF2C. During muscle differentiation, it shuttles into the cytoplasm, allowing the expression of myocyte enhancer factors (By similarity). May be involved in Epstein-Barr virus (EBV) latency, possibly by repressing the viral BZLF1 gene. Positively regulates the transcriptional repressor activity of FOXP3 (PubMed:17360565). Serves as a corepressor of RARA, causing its deacetylation and inhibition of RARE DNA element binding (PubMed:28167758). In association with RARA, plays a role in the repression of microRNA-10a and thereby in the inflammatory response (PubMed:28167758).\",\n",
    "    \"Mediates the voltage-dependent sodium ion permeability of excitable membranes. Assuming opened or closed conformations in response to the voltage difference across the membrane, the protein forms a sodium-selective channel through which Na(+) ions may pass in accordance with their electrochemical gradient (PubMed:1325650, PubMed:17021166, PubMed:28256214, PubMed:29844171). Implicated in the regulation of hippocampal replay occurring within sharp wave ripples (SPW-R) important for memory (By similarity). SCN2A_HUMAN,Q99250\",\n",
    "    \"\",\n",
    "    \"\",\n",
    "    \"\",\n",
    "    \"\",\n",
    "    \"\",\n",
    "    \"\",\n",
    "    \"\",\n",
    "    \"\",\n",
    "    \"\",\n",
    "    \"\"\n",
    "]\n",
    "\n",
    "pd.set_option('display.max_colwidth', None)\n",
    "mgaba_markers"
   ]
  },
  {
   "cell_type": "markdown",
   "metadata": {},
   "source": [
    "___"
   ]
  },
  {
   "cell_type": "markdown",
   "metadata": {},
   "source": [
    "# DE genes in astrocytes between control and exp"
   ]
  },
  {
   "cell_type": "code",
   "execution_count": null,
   "metadata": {},
   "outputs": [],
   "source": [
    "adata_astro = adata[np.char.startswith(nd(adata.obs.celltype.values).astype(str), \"astro\")]\n",
    "adata_astro"
   ]
  },
  {
   "cell_type": "code",
   "execution_count": null,
   "metadata": {},
   "outputs": [],
   "source": [
    "sc.tl.rank_genes_groups(adata_astro, groupby=\"batch_g\", use_raw=False)"
   ]
  },
  {
   "cell_type": "code",
   "execution_count": null,
   "metadata": {},
   "outputs": [],
   "source": [
    "sc.pl.rank_genes_groups(adata_astro, n_genes=10, sharey=True, save=False, ncols=2)"
   ]
  },
  {
   "cell_type": "code",
   "execution_count": null,
   "metadata": {},
   "outputs": [],
   "source": [
    "astro_markers = pd.DataFrame(adata_gaba.uns['rank_genes_groups']['names']).head(20)"
   ]
  },
  {
   "cell_type": "code",
   "execution_count": null,
   "metadata": {},
   "outputs": [],
   "source": [
    "pd.set_option('display.max_colwidth', None)\n",
    "astro_markers"
   ]
  },
  {
   "cell_type": "markdown",
   "metadata": {},
   "source": [
    "___"
   ]
  },
  {
   "cell_type": "markdown",
   "metadata": {},
   "source": [
    "# Violin plots and heat maps of genes that came up during DE gene analysis"
   ]
  },
  {
   "cell_type": "markdown",
   "metadata": {},
   "source": [
    "# Expression of DCX"
   ]
  },
  {
   "cell_type": "code",
   "execution_count": null,
   "metadata": {},
   "outputs": [],
   "source": [
    "adata.var[adata.var.index.str.contains(\"DCX\")]"
   ]
  },
  {
   "cell_type": "code",
   "execution_count": null,
   "metadata": {},
   "outputs": [],
   "source": [
    "genes = [\n",
    "    \"DCX_ENSTGUG00000006180.2\",    \n",
    "    'TBR1_ENSTGUG00000006709.2', \n",
    "    'FABP7_ENSTGUG00000011826.2',\n",
    "    'NOTCH2_ENSTGUG00000017231.2',\n",
    "    \"NELL1_ENSTGUG00000004458.2\",\n",
    "    ]\n",
    "labels = genes\n",
    "celltypes = celltypes_standard\n",
    "\n",
    "violinplot(\n",
    "    adata_exp,\n",
    "    adata_ctrl,\n",
    "    genes,\n",
    "    labels,\n",
    "    celltypes,\n",
    "    fig_name=\"neurogenesis_markers\",\n",
    "    fold_change_min=1.5,\n",
    ")"
   ]
  },
  {
   "cell_type": "markdown",
   "metadata": {},
   "source": [
    "# Expression of ADORA2A"
   ]
  },
  {
   "cell_type": "code",
   "execution_count": null,
   "metadata": {},
   "outputs": [],
   "source": [
    "gget.search(\"adenosine A2a receptor\", \"guttata\")"
   ]
  },
  {
   "cell_type": "code",
   "execution_count": null,
   "metadata": {},
   "outputs": [],
   "source": [
    "adata.var[adata.var.index.str.contains(\"ENSTGUG00000010054\")]"
   ]
  },
  {
   "cell_type": "code",
   "execution_count": null,
   "metadata": {},
   "outputs": [],
   "source": [
    "genes = [\"UPB1_ENSTGUG00000010054.2\"]\n",
    "labels = [\"UPB1\"]\n",
    "celltypes = celltypes_standard\n",
    "\n",
    "violinplot(\n",
    "    adata_exp,\n",
    "    adata_ctrl,\n",
    "    genes,\n",
    "    labels,\n",
    "    celltypes,\n",
    "    fig_name=\"ADORA2A\",\n",
    "    fold_change_min=2,\n",
    ")"
   ]
  },
  {
   "cell_type": "markdown",
   "metadata": {},
   "source": [
    "# Expression of synaptogenesis genes \n",
    "DE from CTRL undefined glut neurons"
   ]
  },
  {
   "cell_type": "code",
   "execution_count": null,
   "metadata": {},
   "outputs": [],
   "source": [
    "syanpto = [\n",
    "    \"NPTXR_ENSTGUG00000024678.1\",\n",
    "    \"NPTX1_ENSTGUG00000025297.1\", \n",
    "    \"NPTX2_ENSTGUG00000008623.2\",  \n",
    "    \"NRXN1_ENSTGUG00000005731.2\",\n",
    "    \"CNTN4_ENSTGUG00000010102.2\",\n",
    "    \"CACNA2D1_ENSTGUG00000002536.2\",\n",
    "]"
   ]
  },
  {
   "cell_type": "code",
   "execution_count": null,
   "metadata": {},
   "outputs": [],
   "source": [
    "genes = syanpto\n",
    "labels = syanpto\n",
    "celltypes = celltypes_standard\n",
    "\n",
    "violinplot(\n",
    "    adata_exp,\n",
    "    adata_ctrl,\n",
    "    genes,\n",
    "    labels,\n",
    "    celltypes,\n",
    "    fig_name=\"synapto\",\n",
    "    fold_change_min=2,\n",
    ")"
   ]
  },
  {
   "cell_type": "markdown",
   "metadata": {},
   "source": [
    "# Genes related to MHC Class 1\n",
    "Regulation of CNS synapses by neuronal MHC class I https://pubmed.ncbi.nlm.nih.gov/17420446/"
   ]
  },
  {
   "cell_type": "code",
   "execution_count": null,
   "metadata": {},
   "outputs": [],
   "source": [
    "mhc_genes = [\"_ENSTGUG00000017273.2\", \"_ENSTGUG00000004607.2\", \"CD3E_ENSTGUG00000022317.1\", \"_ENSTGUG00000010325.2\"]\n",
    "mhc_gene_names = [\"MHC1\", \"B2M\", \"CD3E\", \"CCL3L3\"]"
   ]
  },
  {
   "cell_type": "markdown",
   "metadata": {},
   "source": [
    "Abbreviations:  \n",
    "MHC1 = Major Histocompatibility Complex, Class I (alpha chain-like)\n",
    "B2M = Beta-2-Microglobulin"
   ]
  },
  {
   "cell_type": "code",
   "execution_count": null,
   "metadata": {},
   "outputs": [],
   "source": [
    "genes = mhc_genes\n",
    "labels = mhc_gene_names\n",
    "celltypes = celltypes_standard\n",
    "\n",
    "violinplot(\n",
    "    adata_exp,\n",
    "    adata_ctrl,\n",
    "    genes,\n",
    "    labels,\n",
    "    celltypes,\n",
    "    fig_name=\"MHC_short\",\n",
    "    fold_change_min=1.5,\n",
    ")"
   ]
  },
  {
   "cell_type": "markdown",
   "metadata": {},
   "source": [
    "Per celltype instead of per cluster:"
   ]
  },
  {
   "cell_type": "code",
   "execution_count": null,
   "metadata": {},
   "outputs": [],
   "source": [
    "violinplot(\n",
    "    adata_exp,\n",
    "    adata_ctrl,\n",
    "    genes,\n",
    "    labels,\n",
    "    np.sort(adata.obs.celltype_g.values.unique()),\n",
    "    fig_name=\"MHC_short_fake_bulk\",\n",
    "    fold_change_min=1.5,\n",
    ")"
   ]
  },
  {
   "cell_type": "code",
   "execution_count": null,
   "metadata": {},
   "outputs": [],
   "source": [
    "# vmin = 0\n",
    "# vmax = [60, 50, 30, 90]\n",
    "# size = 5\n",
    "\n",
    "# for i, gene in enumerate(mhc_genes):\n",
    "#     fig, axs = plt.subplots(figsize=(15,4), ncols=3)\n",
    "\n",
    "#     condition = [\"control\", \"experiment\"]\n",
    "#     color_map = \"Reds\"\n",
    "\n",
    "#     sc.pl.umap(adata[np.char.startswith(nd(adata.obs.batch.values).astype(str), condition[0])], size=size, color=gene, title=\"{} expression in {}\".format(mhc_gene_names[i], condition[0]), vmax=vmax[i], vmin=vmin, color_map=color_map, use_raw=True, show=False, ax=axs[0])\n",
    "#     sc.pl.umap(adata[np.char.startswith(nd(adata.obs.batch.values).astype(str), condition[1])], size=size, color=gene, title=\"{} expression in {}\".format(mhc_gene_names[i], condition[1]), vmax=vmax[i], vmin=vmin, color_map=color_map, use_raw=True, show=False, ax=axs[1])\n",
    "#     sc.pl.umap(adata, color=\"celltype\", show=False, ax=axs[2])"
   ]
  },
  {
   "cell_type": "markdown",
   "metadata": {},
   "source": [
    "# Plot the expression of all MHC1-associated genes from ENSEMBL"
   ]
  },
  {
   "cell_type": "code",
   "execution_count": null,
   "metadata": {},
   "outputs": [],
   "source": [
    "# ## MHCII associated genes\n",
    "# mhc2_genes = [\n",
    "#     \"_ENSTGUG00000014649.2\",\n",
    "#     \"ENSTGUG00000024543\",\n",
    "#     \"_ENSTGUG00000029364.1\",\n",
    "#     \"FGL2_ENSTGUG00000002746.2\",\n",
    "# ]\n",
    "# mhc2_gene_names = [\n",
    "#     \"MHC2-like1\",\n",
    "#     \"MHC2-like2\",\n",
    "#     \"RFX1-like\",\n",
    "#     \"Fibrinogen like 2\",\n",
    "# ]"
   ]
  },
  {
   "cell_type": "code",
   "execution_count": null,
   "metadata": {},
   "outputs": [],
   "source": [
    "# MHCI associated genes\n",
    "mhc_genes = [\n",
    "    \"_ENSTGUG00000017273.2\",\n",
    "    \"_ENSTGUG00000028417.1\",\n",
    "    \"_ENSTGUG00000004607.2\",\n",
    "    \"_ENSTGUG00000010325.2\",\n",
    "    \"CX3CR1_ENSTGUG00000018365.2\",\n",
    "    \"_ENSTGUG00000024320.1\",\n",
    "#     \"_ENSTGUG00000010847.2\",\n",
    "    \"CD3E_ENSTGUG00000022317.1\",\n",
    "    \"IFI30_ENSTGUG00000000388.2\",\n",
    "    \"FGL2_ENSTGUG00000002746.2\",\n",
    "    \"TAF7_ENSTGUG00000006593.2\",\n",
    "    \"CALR_ENSTGUG00000014982.2\",\n",
    "    \"_ENSTGUG00000015337.2\",\n",
    "    \"CTSH_ENSTGUG00000009976.2\",\n",
    "    \"PDIA3_ENSTGUG00000010220.2\",\n",
    "#     \"CD8A_ENSTGUG00000010841.2\",\n",
    "    \"IDE_ENSTGUG00000008951.2\",\n",
    "    \"ATP5F1A_ENSTGUG00000001582.2\",\n",
    "    \"ATP5F1B_ENSTGUG00000015620.2\",\n",
    "]\n",
    "mhc_gene_names = [\n",
    "    \"MHC1 F10 alpha chain-like 1\",\n",
    "    \"MHC1 F10 alpha chain like 2\",\n",
    "    \"Beta-2-microglobulin\",\n",
    "    \"CCL3L3\",\n",
    "    \"CX3CR1\",\n",
    "    \"CX3CL1\",\n",
    "#     \"MHC1 protein binding like\",\n",
    "    \"CD3E\",\n",
    "    \"IFI30\",\n",
    "    \"Fibrinogen like 2\",\n",
    "    \"TAF7\",\n",
    "    \"Calreticulin\",\n",
    "    \"Antigen peptide transporter like\",\n",
    "    \"Cathepsin H\",\n",
    "    \"PDIA3\",\n",
    "#     \"CD8A\",\n",
    "    \"IDE\",\n",
    "    \"ATP5F1A\",\n",
    "    \"ATP5F1B\",\n",
    "]"
   ]
  },
  {
   "cell_type": "markdown",
   "metadata": {},
   "source": [
    "#### Notes on MHC1 associated genes listed above:\n",
    "novel gene (Zebra finch Gene)\n",
    "ENSTGUG00000017273 RRCB01000109.1:1545781-1566436:1\n",
    "Class I histocompatibility antigen, F10 alpha chain-like [Source:NCBI gene;Acc:115493126]\n",
    "LOC100231469 (NCBI gene (formerly Entrezgene) record; description: class I histocompatibility antigen, F10 alpha chain-like,) is an external reference matched to Gene ENSTGUG00000017273\n",
    "\n",
    "novel gene (Zebra finch Gene)\n",
    "ENSTGUG00000028417 RRCB01000109.1:254090-279387:1\n",
    "Class I histocompatibility antigen, F10 alpha chain-like [Source:NCBI gene;Acc:115493083]\n",
    "LOC115493083 (NCBI gene (formerly Entrezgene) record; description: class I histocompatibility antigen, F10 alpha chain-like,) is an external reference matched to Gene ENSTGUG00000028417\n",
    "\n",
    "novel gene (Zebra finch Gene)\n",
    "ENSTGUG00000004607 10:4098707-4102774:-1\n",
    "GO:0042612 (GO record; description: MHC class I protein complex,) is an external reference matched to Transcript ENSTGUT00000004794  \n",
    "-- UniProtKB match:Beta-2-microglobulin\n",
    "\n",
    "CD3E (Zebra finch Gene)\n",
    "ENSTGUG00000022317 24:6524361-6530450:-1\n",
    "CD3e molecule [Source:NCBI gene;Acc:115498349].\n",
    "\n",
    "IFI30 (Zebra finch Gene)\n",
    "ENSTGUG00000000388 28:3544686-3547884:1\n",
    "IFI30 lysosomal thiol reductase [Source:HGNC Symbol;Acc:HGNC:5398]\n",
    "GO:0042590 (GO record; description: antigen processing and presentation of exogenous peptide antigen via MHC class I,) is an external reference matched to Transcript ENSTGUT00000000403\n",
    "\n",
    "TAF7 (Zebra finch Gene)\n",
    "ENSTGUG00000006593 4A:18660736-18666314:1\n",
    "TATA-box binding protein associated factor 7 like [Source:NCBI gene;Acc:100228159]\n",
    "GO:0045344 (GO record; description: negative regulation of MHC class I biosynthetic process,) is an external reference matched to Transcript ENSTGUT00000006864\n",
    "\n",
    "CALR (Zebra finch Gene)\n",
    "ENSTGUG00000014982 30:3757974-3761873:1\n",
    "Calreticulin [Source:NCBI gene;Acc:100190479]\n",
    "GO:0042824 (GO record; description: MHC class I peptide loading complex,) is an external reference matched to Transcript ENSTGUT00000015593\n",
    "\n",
    "novel gene (Zebra finch Gene)\n",
    "ENSTGUG00000015337 RRCB01000090.1:2677018-2687645:1\n",
    "Antigen peptide transporter 1-like [Source:NCBI gene;Acc:105760759]\n",
    "GO:0002479 (GO record; description: antigen processing and presentation of exogenous peptide antigen via MHC class I, TAP-dependent,) is an external reference matched to Transcript ENSTGUT00000015946\n",
    "\n",
    "CTSH (Zebra finch Gene)\n",
    "ENSTGUG00000009976 10:21449104-21547116:-1\n",
    "Cathepsin H [Source:HGNC Symbol;Acc:HGNC:2535]\n",
    "GO:0030108 (GO record; description: HLA-A specific activating MHC class I receptor activity,) is an external reference matched to Transcript ENSTGUT00000010401\n",
    "\n",
    "PDIA3 (Zebra finch Gene)\n",
    "ENSTGUG00000010220 10:21775416-21783116:-1\n",
    "Protein disulfide isomerase family A member 3 [Source:NCBI gene;Acc:101234078]\n",
    "GO:0042824 (GO record; description: MHC class I peptide loading complex,) is an external reference matched to Transcript ENSTGUT00000010675\n",
    "\n",
    "IDE (Zebra finch Gene)\n",
    "ENSTGUG00000008951 6:19632451-19686491:1\n",
    "Insulin degrading enzyme [Source:NCBI gene;Acc:100232369]\n",
    "GO:0019885 (GO record; description: antigen processing and presentation of endogenous peptide antigen via MHC class I,) is an external reference matched to Transcript ENSTGUT00000036510\n",
    "\n",
    "ATP5F1A (Zebra finch Gene)\n",
    "ENSTGUG00000001582 Z:40984572-41030045:1\n",
    "ATP synthase F1 subunit alpha [Source:NCBI gene;Acc:751975]\n",
    "GO:0042288 (GO record; description: MHC class I protein binding,) is an external reference matched to Transcript ENSTGUT00000032148\n",
    "\n",
    "ATP5F1B (Zebra finch Gene)\n",
    "ENSTGUG00000015620 29:1469203-1601380:-1\n",
    "ATP synthase F1 subunit beta [Source:NCBI gene;Acc:100221153]\n",
    "GO:0042288 (GO record; description: MHC class I protein binding,) is an external reference matched to Transcript ENSTGUT00000016243"
   ]
  },
  {
   "cell_type": "code",
   "execution_count": null,
   "metadata": {},
   "outputs": [],
   "source": [
    "genes = mhc_genes\n",
    "labels = mhc_gene_names\n",
    "celltypes = celltypes_standard\n",
    "\n",
    "violinplot(adata_exp, adata_ctrl, genes, labels, celltypes, \"MHC1-associated\")"
   ]
  },
  {
   "cell_type": "markdown",
   "metadata": {},
   "source": [
    "# Genes related to iron metabolism"
   ]
  },
  {
   "cell_type": "code",
   "execution_count": null,
   "metadata": {},
   "outputs": [],
   "source": [
    "iron_genes = [\"TFRC_ENSTGUG00000009510.2\", \"LTF_ENSTGUG00000006576.2\", \"MELTF_ENSTGUG00000008871.2\", \"_ENSTGUG00000009830.2\", \"_ENSTGUG00000015659.2\", \"_ENSTGUG00000008813.2\", \"FTH1_ENSTGUG00000005913.2\"]\n",
    "iron_gene_names = [\"TFRC\", \"LTF\", \"MELTF\", \"MELTF-like\", \"ferritin, hs\", \"ferritin, lc\", \"ferritin, hc\"]"
   ]
  },
  {
   "cell_type": "markdown",
   "metadata": {},
   "source": [
    "Abbreviations:  \n",
    "Transferrin receptor (TFRC)  \n",
    "lactotransferrin (LTF)    \n",
    "melanotransferrin (MELTF)  \n",
    "ferritin, hs (ferritin, higher subunit)  \n",
    "ferritin, lc (ferritin, light chain)  \n",
    "ferritin, hc (ferritin, heavy chain)  "
   ]
  },
  {
   "cell_type": "code",
   "execution_count": null,
   "metadata": {},
   "outputs": [],
   "source": [
    "genes = iron_genes\n",
    "labels = iron_gene_names\n",
    "celltypes = celltypes_standard\n",
    "\n",
    "violinplot(\n",
    "    adata_exp,\n",
    "    adata_ctrl,\n",
    "    genes,\n",
    "    labels,\n",
    "    celltypes,\n",
    "    fig_name=\"iron_metabolism\",\n",
    "    fold_change_min=2,\n",
    ")"
   ]
  },
  {
   "cell_type": "code",
   "execution_count": null,
   "metadata": {},
   "outputs": [],
   "source": [
    "vmin = 0\n",
    "vmax = [4.5, 5.5, 4, 3.5, 7, 3.5, 5.5]\n",
    "size = 5\n",
    "\n",
    "for i, gene in enumerate(iron_genes):\n",
    "    fig, axs = plt.subplots(figsize=(15,4), ncols=3)\n",
    "\n",
    "    condition = [\"control\", \"experiment\"]\n",
    "    color_map = \"Reds\"\n",
    "\n",
    "    sc.pl.umap(adata[np.char.startswith(nd(adata.obs.batch.values).astype(str), condition[0])], size=size, color=gene, title=\"{} expression in {}\".format(iron_gene_names[i], condition[0]), vmin=vmin, vmax=vmax[i], color_map=color_map, use_raw=True, show=False, ax=axs[0])\n",
    "    sc.pl.umap(adata[np.char.startswith(nd(adata.obs.batch.values).astype(str), condition[1])], size=size, color=gene, title=\"{} expression in {}\".format(iron_gene_names[i], condition[1]), vmin=vmin, vmax=vmax[i], color_map=color_map, use_raw=True, show=False, ax=axs[1])\n",
    "    sc.pl.umap(adata, color=\"celltype\", show=False, ax=axs[2])"
   ]
  },
  {
   "cell_type": "markdown",
   "metadata": {},
   "source": [
    "# Synapse formation"
   ]
  },
  {
   "cell_type": "code",
   "execution_count": null,
   "metadata": {},
   "outputs": [],
   "source": [
    "syn_genes = [\"NPTXR_ENSTGUG00000024678.1\", \"NPTX1_ENSTGUG00000025297.1\", \"NPTX2_ENSTGUG00000008623.2\", \"SERPINI1_ENSTGUG00000011067.2\"]\n",
    "syn_gene_names = [\"NPTXR\", \"NPTX1\", \"NPTX2\", \"SERPINI1\"]"
   ]
  },
  {
   "cell_type": "markdown",
   "metadata": {},
   "source": [
    "Abbreviations:  \n",
    "NPTXR = Neuronal Pentraxin Receptor  \n",
    "NPTX1 = Neuronal Pentraxin 1  \n",
    "NPTX2 = Neuronal Pentraxin 2  \n",
    "SERPINI1 = Serpin Family I Member 1  "
   ]
  },
  {
   "cell_type": "code",
   "execution_count": null,
   "metadata": {},
   "outputs": [],
   "source": [
    "genes = syn_genes\n",
    "labels = syn_gene_names\n",
    "celltypes = celltypes_standard\n",
    "\n",
    "violinplot(\n",
    "    adata_exp,\n",
    "    adata_ctrl,\n",
    "    genes,\n",
    "    labels,\n",
    "    celltypes,\n",
    "    fig_name=\"synapse_formation\",\n",
    "    fold_change_min=2,\n",
    ")"
   ]
  },
  {
   "cell_type": "code",
   "execution_count": null,
   "metadata": {},
   "outputs": [],
   "source": [
    "vmin = 0\n",
    "vmax = [6.5, 5.5, 5.5, 6.5]\n",
    "size = 5\n",
    "\n",
    "for i, gene in enumerate(syn_genes):\n",
    "    fig, axs = plt.subplots(figsize=(15,4), ncols=3)\n",
    "\n",
    "    condition = [\"control\", \"experiment\"]\n",
    "    color_map = \"Reds\"\n",
    "\n",
    "    sc.pl.umap(adata[np.char.startswith(nd(adata.obs.batch.values).astype(str), condition[0])], size=size, color=gene, title=\"{} expression in {}\".format(syn_gene_names[i], condition[0]), vmin=vmin, vmax=vmax[i], color_map=color_map, use_raw=True, show=False, ax=axs[0])\n",
    "    sc.pl.umap(adata[np.char.startswith(nd(adata.obs.batch.values).astype(str), condition[1])], size=size, color=gene, title=\"{} expression in {}\".format(syn_gene_names[i], condition[1]), vmin=vmin, vmax=vmax[i], color_map=color_map, use_raw=True, show=False, ax=axs[1])\n",
    "    sc.pl.umap(adata, color=\"celltype\", show=False, ax=axs[2])"
   ]
  },
  {
   "cell_type": "markdown",
   "metadata": {},
   "source": [
    "# Synaptic transmission"
   ]
  },
  {
   "cell_type": "code",
   "execution_count": null,
   "metadata": {},
   "outputs": [],
   "source": [
    "ion_genes = [\"GRIA4_ENSTGUG00000012676.2\", \"GRIA2_ENSTGUG00000005484.2\", \"RAB39B_ENSTGUG00000019747.1\", \"_ENSTGUG00000007152.2\"]\n",
    "ion_gene_names = [\"GRIA4\", \"GRIA2\", \"RAB39B\", \"SCN2A\"]"
   ]
  },
  {
   "cell_type": "markdown",
   "metadata": {},
   "source": [
    "Abbreviations:  \n",
    "GRIA2 = Glutamate Ionotropic Receptor AMPA Type Subunit 2  \n",
    "RAB39B = Member RAS Oncogene Family   \n",
    "SCN2A = Sodium Voltage-Gated Channel Alpha Subunit 2"
   ]
  },
  {
   "cell_type": "code",
   "execution_count": null,
   "metadata": {},
   "outputs": [],
   "source": [
    "genes = ion_genes\n",
    "labels = ion_gene_names\n",
    "celltypes = celltypes_standard\n",
    "\n",
    "violinplot(\n",
    "    adata_exp,\n",
    "    adata_ctrl,\n",
    "    genes,\n",
    "    labels,\n",
    "    celltypes,\n",
    "    fig_name=\"DE_ion_channels\",\n",
    "    fold_change_min=2,\n",
    ")"
   ]
  },
  {
   "cell_type": "code",
   "execution_count": null,
   "metadata": {},
   "outputs": [],
   "source": [
    "vmin = 0\n",
    "vmax = [10, 6, 5, 5.5]\n",
    "size = 5\n",
    "\n",
    "for i, gene in enumerate(ion_genes):\n",
    "    fig, axs = plt.subplots(figsize=(15,4), ncols=3)\n",
    "\n",
    "    condition = [\"control\", \"experiment\"]\n",
    "    color_map = \"Reds\"\n",
    "\n",
    "    sc.pl.umap(adata[np.char.startswith(nd(adata.obs.batch.values).astype(str), condition[0])], size=size, color=gene, title=\"{} expression in {}\".format(ion_gene_names[i], condition[0]), vmin=vmin, vmax=vmax[i], color_map=color_map, use_raw=True, show=False, ax=axs[0])\n",
    "    sc.pl.umap(adata[np.char.startswith(nd(adata.obs.batch.values).astype(str), condition[1])], size=size, color=gene, title=\"{} expression in {}\".format(ion_gene_names[i], condition[1]), vmin=vmin, vmax=vmax[i], color_map=color_map, use_raw=True, show=False, ax=axs[1])\n",
    "    sc.pl.umap(adata, color=\"celltype\", show=False, ax=axs[2])"
   ]
  },
  {
   "cell_type": "markdown",
   "metadata": {},
   "source": [
    "# Expression of AMPA/NMDA receptor associated genes (from Ensembl)"
   ]
  },
  {
   "cell_type": "code",
   "execution_count": null,
   "metadata": {},
   "outputs": [],
   "source": [
    "nmda = [\n",
    "    ## AMPA\n",
    "    # cornichon family AMPA receptor auxiliary proteins\n",
    "    \"CNIH1_ENSTGUG00000013093.2\",\n",
    "    \"CNIH3_ENSTGUG00000004070.2\",\n",
    "    \"CNIH4_ENSTGUG00000025113.1\",\n",
    "    # Glutamate ionotropic receptor AMPA type subunits\n",
    "    \"GRIA1_ENSTGUG00000000726.2\",\n",
    "    \"GRIA2_ENSTGUG00000005484.2\",\n",
    "    \"GRIA3_ENSTGUG00000003563.2\",\n",
    "    \"GRIA4_ENSTGUG00000012676.2\",\n",
    "    # Part of AMPA glutamate receptor complex\n",
    "    \"OLFM3_ENSTGUG00000029430.1\",\n",
    "    \"SHISA9_ENSTGUG00000005074.2\",\n",
    "    \"VWC2_ENSTGUG00000007906.2\",\n",
    "    \"VWC2L_ENSTGUG00000002893.2\",\n",
    "    \"CACNG1_ENSTGUG00000004397.2\",\n",
    "    \"CACNG2_ENSTGUG00000010725.2\",\n",
    "    \"CACNG3_ENSTGUG00000006208.2\",\n",
    "    \"CACNG4_ENSTGUG00000004385.2\",\n",
    "    \"CACNG5_ENSTGUG00000026853.1\",\n",
    "    \"ABHD6_ENSTGUG00000007463.2\",\n",
    "    \"ABHD12_ENSTGUG00000004985.2\",\n",
    "    # AMPA receptor activity modulators\n",
    "    \"ADRB1_ENSTGUG00000010890.2\",   # Adrenoceptors\n",
    "    \"ADRB2_ENSTGUG00000000286.2\",\n",
    "    #\n",
    "    ## Possibly involved in receptor clustering on the cell membrane\n",
    "    \"SLC6A6_ENSTGUG00000008337.2\",  # From DE genes\n",
    "    \"SLC7A11_ENSTGUG00000001504.2\",\n",
    "    \"DLG3_ENSTGUG00000007374.2\",\n",
    "    ## General receptor activity regulators\n",
    "    \"NLGN1_ENSTGUG00000021670.1\",\n",
    "    \"RELN_ENSTGUG00000002836.2\",\n",
    "    #\n",
    "    ## NMDA\n",
    "    # NMDA receptor synaptonuclear signaling and neuronal migration factor\n",
    "    \"NSMF_ENSTGUG00000002736.2\",\n",
    "    # Receptor subunits\n",
    "    \"GRIN1_ENSTGUG00000002568.2\",\n",
    "    \"GRINA_ENSTGUG00000021030.1\",\n",
    "    \"GRIN2A_ENSTGUG00000004747.2\",\n",
    "    \"GRIN2B_ENSTGUG00000009456.2\",\n",
    "    \"GRIN2C_ENSTGUG00000008858.2\",\n",
    "    \"GRIN2D_ENSTGUG00000021251.1\",\n",
    "    \"GRIN3A_ENSTGUG00000000661.2\",\n",
    "    \"GRIN3B_ENSTGUG00000000668.2\",\n",
    "    # Part of NMDA selective glutamate receptor complex\n",
    "    \"EPS8_ENSTGUG00000012399.2\",\n",
    "    # NMDA receptor activity modulators\n",
    "    \"DAPK1_ENSTGUG00000000606.2\",\n",
    "    \"RASGRF2_ENSTGUG00000007037.2\",\n",
    "    \"DRD1_ENSTGUG00000000340.2\",\n",
    "    \"CRH_ENSTGUG00000011277.2\",\n",
    "]"
   ]
  },
  {
   "cell_type": "code",
   "execution_count": null,
   "metadata": {},
   "outputs": [],
   "source": [
    "genes = nmda\n",
    "labels = nmda\n",
    "celltypes = [\n",
    "    \"GABAergic neurons 1\",\n",
    "    \"GABAergic neurons 2\",\n",
    "    \"astrocytes 1\",\n",
    "    \"astrocytes 2\",\n",
    "    \"glutamatergic neurons 1\",\n",
    "    \"glutamatergic neurons 2\",\n",
    "    \"glutamatergic neurons 3\",\n",
    "    \"glutamatergic neurons 4\",\n",
    "    \"microglia 1\",\n",
    "    \"microglia 2\",\n",
    "]\n",
    "\n",
    "violinplot(\n",
    "    adata_exp,\n",
    "    adata_ctrl,\n",
    "    genes,\n",
    "    labels,\n",
    "    celltypes,\n",
    "    fig_name=\"NMDA_AMPA\",\n",
    "    fold_change_min=1.5,\n",
    ")"
   ]
  },
  {
   "cell_type": "markdown",
   "metadata": {},
   "source": [
    "Heatmap of genes that showed the most difference in glutamatergic neurons:"
   ]
  },
  {
   "cell_type": "code",
   "execution_count": null,
   "metadata": {},
   "outputs": [],
   "source": [
    "# vmin = 0\n",
    "# vmax = [15, 3, 11, 25, 12]\n",
    "# size = 5\n",
    "\n",
    "# titles = [\"DAPK1\", \"VWC2L\", \"CACNG4\", \"CACNG5\", \"RASGRF2\"]\n",
    "\n",
    "# for i, gene in enumerate([\"DAPK1_ENSTGUG00000000606.2\", \"VWC2L_ENSTGUG00000002893.2\", \"CACNG4_ENSTGUG00000004385.2\", \"CACNG5_ENSTGUG00000026853.1\", \"RASGRF2_ENSTGUG00000007037.2\"]):\n",
    "#     fig, axs = plt.subplots(figsize=(15,4), ncols=3)\n",
    "\n",
    "#     condition = [\"control\", \"experiment\"]\n",
    "#     color_map = \"Reds\"\n",
    "\n",
    "#     sc.pl.umap(adata_glut[np.char.startswith(nd(adata_glut.obs.batch.values).astype(str), condition[0])], size=size, color=gene, title=\"{} expression in {}\".format(titles[i], condition[0]), vmax=vmax[i], vmin=vmin, color_map=color_map, use_raw=True, show=False, ax=axs[0])\n",
    "#     sc.pl.umap(adata_glut[np.char.startswith(nd(adata_glut.obs.batch.values).astype(str), condition[1])], size=size, color=gene, title=\"{} expression in {}\".format(titles[i], condition[1]), vmax=vmax[i], vmin=vmin, color_map=color_map, use_raw=True, show=False, ax=axs[1])\n",
    "#     sc.pl.umap(adata_glut, color=\"celltype\", show=False, ax=axs[2])"
   ]
  },
  {
   "cell_type": "markdown",
   "metadata": {},
   "source": [
    "# Expression of pre-synatpic proteins"
   ]
  },
  {
   "cell_type": "code",
   "execution_count": null,
   "metadata": {},
   "outputs": [],
   "source": [
    "# Find SNARE-associated genes\n",
    "synaptotagmin = np.sort(adata.var.index[adata.var.index.str.contains(\"SYT\")])\n",
    "syntaxin = np.sort(adata.var.index[adata.var.index.str.contains(\"STX\")])\n",
    "ankyrin = np.sort(adata.var.index[adata.var.index.str.contains(\"ANKRD\")])\n",
    "SNAP = np.sort(adata.var.index[adata.var.index.str.contains(\"SNAP\")])\n",
    "SNARE = np.sort(adata.var.index[adata.var.index.str.contains(\"SNARE\")])\n",
    "VAMP = np.sort(adata.var.index[adata.var.index.str.contains(\"VAMP\")])\n",
    "nexin = np.sort(adata.var.index[adata.var.index.str.contains(\"SNX\")])\n",
    "complexin = np.sort(adata.var.index[adata.var.index.str.contains(\"CPLX\")])\n",
    "vps = np.sort(adata.var.index[adata.var.index.str.contains(\"VPS\")])\n",
    "# Other proteins possibly involved in receptor transport to the membrane:\n",
    "PSD = np.sort(adata.var.index[adata.var.index.str.contains(\"PSD\")])\n",
    "NSF = np.sort(adata.var.index[adata.var.index.str.contains(\"NSF\")])"
   ]
  },
  {
   "cell_type": "code",
   "execution_count": null,
   "metadata": {},
   "outputs": [],
   "source": [
    "pre_synaptic = np.concatenate((synaptotagmin, syntaxin, ankyrin, SNAP, SNARE, VAMP, nexin, complexin, vps, PSD, NSF))\n",
    "\n",
    "# Get gene names\n",
    "pre_synaptic_labels = []\n",
    "for i in pre_synaptic:\n",
    "    pre_synaptic_labels.append(i.split(\"_\")[0])"
   ]
  },
  {
   "cell_type": "code",
   "execution_count": null,
   "metadata": {},
   "outputs": [],
   "source": [
    "genes = pre_synaptic\n",
    "labels = pre_synaptic_labels\n",
    "celltypes = celltypes_standard\n",
    "\n",
    "violinplot(\n",
    "    adata_exp,\n",
    "    adata_ctrl,\n",
    "    genes,\n",
    "    labels,\n",
    "    celltypes,\n",
    "    fig_name=\"pre-synaptic_vesicle\",\n",
    "    fold_change_min=1.5,\n",
    ")"
   ]
  },
  {
   "cell_type": "markdown",
   "metadata": {},
   "source": [
    "# GABA receptor-associated genes from Ensembl"
   ]
  },
  {
   "cell_type": "markdown",
   "metadata": {},
   "source": [
    "Use gget to find GABA-associated genes:"
   ]
  },
  {
   "cell_type": "code",
   "execution_count": null,
   "metadata": {},
   "outputs": [],
   "source": [
    "searchwords = [\"gaba\", \"gamma-aminobutyric acid\"]\n",
    "species = \"taeniopygia_guttata\"\n",
    "\n",
    "df1 = gget.search(searchwords, species, limit=None)\n",
    "df1.head()"
   ]
  },
  {
   "cell_type": "code",
   "execution_count": null,
   "metadata": {},
   "outputs": [],
   "source": [
    "# Find index IDs of genes\n",
    "GABA = []\n",
    "for ID in df1[\"Ensembl_ID\"].values:\n",
    "    GABA.append(adata.var.index[adata.var.index.str.contains(ID)][0])"
   ]
  },
  {
   "cell_type": "code",
   "execution_count": null,
   "metadata": {},
   "outputs": [],
   "source": [
    "# Genes with the searchwords in the Ensembl description\n",
    "GABA"
   ]
  },
  {
   "cell_type": "markdown",
   "metadata": {},
   "source": [
    "Plot vplot of genes with the searchwords in the Ensembl description:"
   ]
  },
  {
   "cell_type": "code",
   "execution_count": null,
   "metadata": {},
   "outputs": [],
   "source": [
    "genes = GABA\n",
    "labels = GABA\n",
    "celltypes = celltypes_standard\n",
    "\n",
    "violinplot(\n",
    "    adata_exp,\n",
    "    adata_ctrl,\n",
    "    genes,\n",
    "    labels,\n",
    "    celltypes,\n",
    "    fig_name=\"GABA\",\n",
    "    fold_change_min=1.5,\n",
    ")"
   ]
  },
  {
   "cell_type": "markdown",
   "metadata": {},
   "source": [
    "Same plot but showing only two genes and neuronal celltypes:"
   ]
  },
  {
   "cell_type": "code",
   "execution_count": null,
   "metadata": {},
   "outputs": [],
   "source": [
    "genes = [\"_ENSTGUG00000026007.1\", \"_ENSTGUG00000009131.2\"]\n",
    "labels = [\"GABARAP_ENSTGUG00000026007.1\", \"GABARR_typeA_ENSTGUG00000009131.2\"]\n",
    "celltypes = [\n",
    "    \"GABAergic neurons 1\",\n",
    "    \"GABAergic neurons 2\",\n",
    "    \"astrocytes 1\",\n",
    "    \"astrocytes 2\",\n",
    "    \"glutamatergic neurons 1\",\n",
    "    \"glutamatergic neurons 2\",\n",
    "    \"glutamatergic neurons 3\",\n",
    "    \"glutamatergic neurons 4\",\n",
    "]\n",
    "\n",
    "violinplot(\n",
    "    adata_exp,\n",
    "    adata_ctrl,\n",
    "    genes,\n",
    "    labels,\n",
    "    celltypes,\n",
    "    fig_name=\"GABA_short\",\n",
    "    fold_change_min=1.5,\n",
    ")"
   ]
  },
  {
   "cell_type": "code",
   "execution_count": null,
   "metadata": {},
   "outputs": [],
   "source": [
    "# gab_markers = [\n",
    "#     \"GAD1_ENSTGUG00000008060.2\",\n",
    "#     \"GAD2_ENSTGUG00000001148.2\",\n",
    "#     \"SST_ENSTGUG00000027783.1\",\n",
    "#     \"PVALB_ENSTGUG00000010713.2\",\n",
    "#     \"CALB1_ENSTGUG00000011825.2\",\n",
    "#     \"CALB2_ENSTGUG00000005987.2\",\n",
    "# ]"
   ]
  },
  {
   "cell_type": "code",
   "execution_count": null,
   "metadata": {},
   "outputs": [],
   "source": [
    "# genes = gab_markers\n",
    "# labels = gab_markers\n",
    "# celltypes = celltypes_standard\n",
    "\n",
    "# violinplot(\n",
    "#     adata_exp,\n",
    "#     adata_ctrl,\n",
    "#     genes,\n",
    "#     labels,\n",
    "#     celltypes,\n",
    "#     fig_name=\"GABA_cellmarkers\",\n",
    "#     fold_change_min=1.5,\n",
    "# )"
   ]
  },
  {
   "cell_type": "markdown",
   "metadata": {},
   "source": [
    "# Gephyrin\n",
    "\"Recent studies clarified a dynamic regulation of the intracellular trafficking of GABA(A) receptors and its involvement in the pathophysiology of epilepsy. GABA(A) synaptic inhibition decreased in the hippocampal CA1 area of patients with intractable temporal lobe epilepsy (TLE). The reduction of GABAergic inhibition was accompanied by a decrease in the expression of gephyrin, a scaffolding protein, and GABA(A) receptor gamma2 subunit. These findings indicate that the reduction of gephyrin impairs the clustering and fixation of GABA(A) receptors in postsynaptic membranes, leading to a decrease in number of GABA(A) receptor subunits and GABA(A) synaptic inhibition. In contrast, the GABA(A) synaptic inhibition was lastingly potentiated in the dentate gyrus of kindled animals and the expression of GABA(A) receptor subunits(especially alpha2) was significantly increased in TLE patients. It is plausible that the potentiation of dentate GABAergic inhibition counteracts a hyperexcitability of granule cells as a defense mechanism in epilepsy. In status epilepticus, furthermore, the hippocampal GABA(A) receptor beta3 subunits were significantly disphosphorylated, resulting in a facilitation of the endocytosis of GABA(A) receptors and reduced benzodiazepine sensitivity.\"  \n",
    "https://reader.elsevier.com/reader/sd/pii/S0306452205004367?token=C076C3C79DF94D756BE63C0A22F4CAC10D216E059BBE9C76A5BD6F318E1372FA9CCCC22C51B44132A529CC586E0344FD&originRegion=us-east-1&originCreation=20220306072456"
   ]
  },
  {
   "cell_type": "code",
   "execution_count": null,
   "metadata": {},
   "outputs": [],
   "source": [
    "search(\"gephyrin\", \"guttata\")"
   ]
  },
  {
   "cell_type": "code",
   "execution_count": null,
   "metadata": {},
   "outputs": [],
   "source": [
    "adata.var[adata.var.index.str.contains(\"ENSTGUG00000011577\")]"
   ]
  },
  {
   "cell_type": "code",
   "execution_count": null,
   "metadata": {},
   "outputs": [],
   "source": [
    "gep_markers =[\n",
    "    \"GPHN_ENSTGUG00000011577.2\",\n",
    "    \"ZDHHC12_ENSTGUG00000019700.1\",\n",
    "    \"NRXN1_ENSTGUG00000005731.2\"\n",
    "]"
   ]
  },
  {
   "cell_type": "code",
   "execution_count": null,
   "metadata": {},
   "outputs": [],
   "source": [
    "genes = gep_markers\n",
    "labels = gep_markers\n",
    "celltypes = celltypes_standard\n",
    "\n",
    "violinplot(\n",
    "    adata_exp,\n",
    "    adata_ctrl,\n",
    "    genes,\n",
    "    labels,\n",
    "    celltypes,\n",
    "    fig_name=\"gephyrin\",\n",
    "    fold_change_min=1.5,\n",
    ")"
   ]
  },
  {
   "cell_type": "markdown",
   "metadata": {},
   "source": [
    "# Zebra finch sodium, calcium and chloride channels from https://bmcgenomics.biomedcentral.com/articles/10.1186/s12864-019-5871-2"
   ]
  },
  {
   "cell_type": "code",
   "execution_count": null,
   "metadata": {},
   "outputs": [],
   "source": [
    "df_temp = pd.read_csv(\"zebrafinch_Na_Ca_Cl_channels.txt\", sep=\" \", header=None)\n",
    "    \n",
    "Na_Ca_Cl = []\n",
    "for ID in df_temp[0].values:\n",
    "    # Ignore genes that cannot be found based on the display label\n",
    "    if len(adata.var.index[adata.var.index.str.contains(ID)]) > 0:\n",
    "        Na_Ca_Cl.append(adata.var.index[adata.var.index.str.contains(ID)][0])"
   ]
  },
  {
   "cell_type": "code",
   "execution_count": null,
   "metadata": {},
   "outputs": [],
   "source": [
    "genes = Na_Ca_Cl\n",
    "labels = Na_Ca_Cl\n",
    "celltypes = celltypes_standard\n",
    "\n",
    "violinplot(\n",
    "    adata_exp,\n",
    "    adata_ctrl,\n",
    "    genes,\n",
    "    labels,\n",
    "    celltypes,\n",
    "    fig_name=\"Na_Ca_Cl_Mello\",\n",
    "    fold_change_min=1.5,\n",
    ")"
   ]
  },
  {
   "cell_type": "markdown",
   "metadata": {},
   "source": [
    "Select the genes that are up- or down-regulated in glutamatergic and GABAergic neurons:"
   ]
  },
  {
   "cell_type": "code",
   "execution_count": null,
   "metadata": {},
   "outputs": [],
   "source": [
    "Na_Ca_Cl_GABA_glut = [\n",
    "    \"SCN3B_ENSTGUG00000000607.2\",\n",
    "    \"SCN4B_ENSTGUG00000000230.2\",\n",
    "    \"ASIC2_ENSTGUG00000003215.2\",\n",
    "    \"ASIC4_ENSTGUG00000006157.2\",\n",
    "    \"SCNN1B_ENSTGUG00000005936.2\",\n",
    "    \"CACNA2D3_ENSTGUG00000006966.2\",\n",
    "    \"CACNG3_ENSTGUG00000006208.2\",\n",
    "    \"CACNB2_ENSTGUG00000001247.2\",\n",
    "    \"ITPR3_ENSTGUG00000001798.2\",\n",
    "    \"_ENSTGUG00000011653.2\",\n",
    "    \"_ENSTGUG00000007338.2\",\n",
    "    \"CLCN2_ENSTGUG00000010323.2\",\n",
    "    \"_ENSTGUG00000002023.2\",\n",
    "    \"ANO1_ENSTGUG00000005385.2\",\n",
    "    \"ANO4_ENSTGUG00000009008.2\",\n",
    "    \"ANO5_ENSTGUG00000004532.2\",\n",
    "    \"ANO6_ENSTGUG00000006024.2\",\n",
    "    \"ANO10_ENSTGUG00000003830.2\",\n",
    "    \"BEST1_ENSTGUG00000005934.2\",\n",
    "    \"LRRC8A_ENSTGUG00000004233.2\",\n",
    "    \"LRRC8B_ENSTGUG00000006230.2\",\n",
    "    \"CFTR_ENSTGUG00000004828.2\",\n",
    "    \"CLNS1A_ENSTGUG00000013030.2\",\n",
    "]"
   ]
  },
  {
   "cell_type": "code",
   "execution_count": null,
   "metadata": {},
   "outputs": [],
   "source": [
    "genes = Na_Ca_Cl_GABA_glut\n",
    "labels = Na_Ca_Cl_GABA_glut\n",
    "celltypes = celltypes_standard\n",
    "\n",
    "violinplot(\n",
    "    adata_exp,\n",
    "    adata_ctrl,\n",
    "    genes,\n",
    "    labels,\n",
    "    celltypes,\n",
    "    fig_name=\"Na_Ca_Cl_GABA_glut_Mello\",\n",
    "    fold_change_min=1.5,\n",
    ")"
   ]
  },
  {
   "cell_type": "markdown",
   "metadata": {},
   "source": [
    "# Zebra finch potassium channels from https://www.ncbi.nlm.nih.gov/pmc/articles/PMC3711925/"
   ]
  },
  {
   "cell_type": "code",
   "execution_count": null,
   "metadata": {},
   "outputs": [],
   "source": [
    "df_temp = pd.read_csv(\"zebrafinch_K_channels.txt\", sep=\" \", header=None)\n",
    "    \n",
    "K = []\n",
    "for ID in df_temp[0].values:\n",
    "    # Ignore genes that cannot be found based on the display label\n",
    "    if len(adata.var.index[adata.var.index.str.contains(ID)]) > 0:\n",
    "        K.append(adata.var.index[adata.var.index.str.contains(ID)][0])"
   ]
  },
  {
   "cell_type": "code",
   "execution_count": null,
   "metadata": {},
   "outputs": [],
   "source": [
    "genes = K\n",
    "labels = K\n",
    "celltypes = celltypes_standard\n",
    "\n",
    "violinplot(\n",
    "    adata_exp,\n",
    "    adata_ctrl,\n",
    "    genes,\n",
    "    labels,\n",
    "    celltypes,\n",
    "    fig_name=\"K_Mello\",\n",
    "    fold_change_min=1.5,\n",
    ")"
   ]
  },
  {
   "cell_type": "markdown",
   "metadata": {},
   "source": [
    "Select only those genes that are up- or down-regulated in GABA-/glutamatergic neurons:"
   ]
  },
  {
   "cell_type": "code",
   "execution_count": null,
   "metadata": {},
   "outputs": [],
   "source": [
    "K_GABA_glut = [\n",
    "    \"KCNAB1_ENSTGUG00000011253.2\",\n",
    "    \"KCNB2_ENSTGUG00000011511.2\",\n",
    "    \"KCNS1_ENSTGUG00000005049.2\",\n",
    "    \"KCND2_ENSTGUG00000004691.2\",\n",
    "    \"KCNIP1_ENSTGUG00000014900.2\",\n",
    "    \"KCNIP4_ENSTGUG00000009548.2\",\n",
    "    \"_ENSTGUG00000003202.2\",\n",
    "    \"KCNH5_ENSTGUG00000012967.2\",\n",
    "    \"KCNH6_ENSTGUG00000001965.2\",\n",
    "    \"KCNH7_ENSTGUG00000006950.2\",\n",
    "    \"KCNQ2_ENSTGUG00000007434.2\",\n",
    "    \"KCNQ5_ENSTGUG00000012688.2\",\n",
    "    \"KCNN1_ENSTGUG00000014658.2\",\n",
    "    \"KCNT2_ENSTGUG00000004186.2\",\n",
    "    \"KCNJ2_ENSTGUG00000002878.2\",\n",
    "    \"KCNJ9_ENSTGUG00000000586.2\",\n",
    "    \"KCNJ15_ENSTGUG00000004997.2\",\n",
    "    \"KCNK1_ENSTGUG00000010202.2\",\n",
    "    \"KCNK2_ENSTGUG00000002899.2\",\n",
    "    \"KCNK10_ENSTGUG00000012403.2\",\n",
    "    \"KCNK12_ENSTGUG00000005557.2\",\n",
    "    \"HCN2_ENSTGUG00000000617.2\",\n",
    "    \"KCTD6_ENSTGUG00000009191.2\",\n",
    "    \"KCTD17_ENSTGUG00000010672.2\",\n",
    "    \"KCNAB1_ENSTGUG00000011253.2\",\n",
    "    \"KCNB2_ENSTGUG00000011511.2\",\n",
    "    \"_ENSTGUG00000012696.2\",\n",
    "    \"_ENSTGUG00000005525.2\",\n",
    "]"
   ]
  },
  {
   "cell_type": "code",
   "execution_count": null,
   "metadata": {},
   "outputs": [],
   "source": [
    "genes = K_GABA_glut\n",
    "labels = K_GABA_glut\n",
    "celltypes = celltypes_standard\n",
    "\n",
    "violinplot(\n",
    "    adata_exp,\n",
    "    adata_ctrl,\n",
    "    genes,\n",
    "    labels,\n",
    "    celltypes,\n",
    "    fig_name=\"K_GABA_glut_Mello\",\n",
    "    fold_change_min=1.5,\n",
    ")"
   ]
  },
  {
   "cell_type": "markdown",
   "metadata": {},
   "source": [
    "# General cell cycle progression and developmental events"
   ]
  },
  {
   "cell_type": "code",
   "execution_count": null,
   "metadata": {},
   "outputs": [],
   "source": [
    "other_genes = [\"_ENSTGUG00000029762.1\", \"CSNK1D_ENSTGUG00000003904.2\", \"TUBB4B_ENSTGUG00000019371.1\", \"IFI6_ENSTGUG00000021692.1\"]\n",
    "other_gene_names = [\"HDAC7\", \"CSNK1D\", \"TUBB4B\", \"IFI6\"]"
   ]
  },
  {
   "cell_type": "markdown",
   "metadata": {},
   "source": [
    "Abbreviations:  \n",
    "HDAC7 = Histone deacetylase 7-like  \n",
    "CSNK1D = Casein Kinase 1 Delta  \n",
    "TUBB4B = Tubulin Beta 4B Class IVb  \n",
    "IFI6 = Interferon Alpha Inducible Protein 6"
   ]
  },
  {
   "cell_type": "code",
   "execution_count": null,
   "metadata": {},
   "outputs": [],
   "source": [
    "genes = other_genes\n",
    "labels = other_gene_names\n",
    "celltypes = celltypes_standard\n",
    "\n",
    "violinplot(\n",
    "    adata_exp,\n",
    "    adata_ctrl,\n",
    "    genes,\n",
    "    labels,\n",
    "    celltypes,\n",
    "    fig_name=\"cellcycle_dev\",\n",
    "    fold_change_min=2,\n",
    ")"
   ]
  },
  {
   "cell_type": "code",
   "execution_count": null,
   "metadata": {},
   "outputs": [],
   "source": [
    "vmin = 0\n",
    "vmax = [5.5, 5.2, 4.2, 6]\n",
    "size = 5\n",
    "\n",
    "for i, gene in enumerate(other_genes):\n",
    "    fig, axs = plt.subplots(figsize=(15,4), ncols=3)\n",
    "\n",
    "    condition = [\"control\", \"experiment\"]\n",
    "    color_map = \"Reds\"\n",
    "\n",
    "    sc.pl.umap(adata[np.char.startswith(nd(adata.obs.batch.values).astype(str), condition[0])], size=size, color=gene, title=\"{} expression in {}\".format(other_gene_names[i], condition[0]), vmin=vmin, vmax=vmax[i], color_map=color_map, use_raw=True, show=False, ax=axs[0])\n",
    "    sc.pl.umap(adata[np.char.startswith(nd(adata.obs.batch.values).astype(str), condition[1])], size=size, color=gene, title=\"{} expression in {}\".format(other_gene_names[i], condition[1]), vmin=vmin, vmax=vmax[i], color_map=color_map, use_raw=True, show=False, ax=axs[1])\n",
    "    sc.pl.umap(adata, color=\"celltype\", show=False, ax=axs[2])"
   ]
  },
  {
   "cell_type": "markdown",
   "metadata": {},
   "source": [
    "# Are immediate early genes (IEGs) upregulated in experiment?"
   ]
  },
  {
   "cell_type": "code",
   "execution_count": null,
   "metadata": {},
   "outputs": [],
   "source": [
    "# Get IEGs\n",
    "IEG = marker_gene_mat.loc[marker_gene_mat[\"immediate early genes\"] != 0].index.values\n",
    "\n",
    "# Get gene names\n",
    "IEG_labels = []\n",
    "for i in IEG:\n",
    "    IEG_labels.append(i.split(\"_\")[0])"
   ]
  },
  {
   "cell_type": "code",
   "execution_count": null,
   "metadata": {},
   "outputs": [],
   "source": [
    "genes = IEG\n",
    "labels = IEG_labels\n",
    "celltypes = celltypes_standard\n",
    "\n",
    "violinplot(\n",
    "    adata_exp, adata_ctrl, genes, labels, celltypes, fig_name=\"IEGs\", fold_change_min=2\n",
    ")"
   ]
  },
  {
   "cell_type": "markdown",
   "metadata": {},
   "source": [
    "# Are immune response genes upregulated in experiment?\n",
    "Mitochondrial: MCU  \n",
    "Apoptosis: AIFM1, CASP3  \n",
    "\n",
    "From https://bmcgenomics.biomedcentral.com/articles/10.1186/s12864-019-6016-3  \n",
    "Metabolic process: APOD, LRAT, RBP4    \n",
    "Immunity-related transcripts (in hippocampus): IL-1β, RSAD2, SOCS3, CTGF, GPR75, IRF1, EIF4EBP1    \n",
    "Red blood cells: CCL5, TLR3, LRRK1, SAAL1, MAP3K8, IFIH1  \n",
    "Significanlty up in all tissues: STEAP4, TOR1B, ZNFX1  "
   ]
  },
  {
   "cell_type": "code",
   "execution_count": null,
   "metadata": {},
   "outputs": [],
   "source": [
    "immune_response = marker_gene_mat.loc[marker_gene_mat['immune response'] != 0].index.values\n",
    "immune_response_labels = []\n",
    "for i in immune_response:\n",
    "    immune_response_labels.append(i.split(\"_\")[0])"
   ]
  },
  {
   "cell_type": "code",
   "execution_count": null,
   "metadata": {},
   "outputs": [],
   "source": [
    "genes = immune_response\n",
    "labels = immune_response_labels\n",
    "celltypes = celltypes_standard\n",
    "\n",
    "violinplot(\n",
    "    adata_exp,\n",
    "    adata_ctrl,\n",
    "    genes,\n",
    "    labels,\n",
    "    celltypes,\n",
    "    fig_name=\"immune_response\",\n",
    "    fold_change_min=2,\n",
    ")"
   ]
  },
  {
   "cell_type": "markdown",
   "metadata": {},
   "source": [
    "# Plot the expression of GABAergic neurons, glutatamergic neurons, microglia and astrocytes DE genes (control vs. exp) across all celltypes\n",
    "DE genes here are the top 10 highest z-score genes for each celltype (control versus experiment) (including all clusters for that celltype). "
   ]
  },
  {
   "cell_type": "code",
   "execution_count": null,
   "metadata": {},
   "outputs": [],
   "source": [
    "all_DE_exp = np.unique(\n",
    "    (mglut_markers[\"experiment\"].values).tolist()\n",
    "    + (mgaba_markers[\"experiment\"].values).tolist()\n",
    "    + (mglia_markers[\"experiment\"].values).tolist()\n",
    "    + (astro_markers[\"experiment\"].values).tolist()\n",
    ")\n",
    "\n",
    "all_DE_exp_names = [\n",
    "    \"Apolipoprotein A1 (APOA1)\",\n",
    "    \"Bestrophin 1 (BEST1)\",\n",
    "    \"Clusterin (CLU)\",\n",
    "    \"Casein Kinase 1 Delta (CSNK1D)\",\n",
    "    \"Ectonucleotide Pyrophosphatase/Phosphodiesterase\\n (2ENPP2)\",\n",
    "    \"Heat Shock Protein 90 Beta Family Member 1\\n (HSP90B1)\",\n",
    "    \"Heat Shock Protein Family A (Hsp70) Member 5\\n (HSPA5)\",\n",
    "    \"Interferon Alpha Inducible Protein 6 (IFI6)\",\n",
    "    \"Ribosomal Protein L17 (RPL17)\",\n",
    "    \"Ribosomal Protein L23 (RPL23)\",\n",
    "    \"Ribosomal Protein L6 (RPL6)\",\n",
    "    \"Ribosomal Protein S20 (RPS20)\",\n",
    "    \"Ribosomal Protein S7 (RPS7)\",\n",
    "    \"Serglycin (SRGN)\",\n",
    "    \"Tubulin Beta 4B (TUBB4B)\",\n",
    "    \"Small Nuclear Ribonucleoprotein G (SNRPG)\",\n",
    "    \"Beta-2-microglobulin (B2M)\",\n",
    "    \"Sodium Voltage-gated Channel α Subunit 2\\n (SCN2A)\",\n",
    "    \"HRAS suppressor-like\",\n",
    "    \"C-C Motif Chemokine 3-like (CCL3)\",\n",
    "    \"Ferritin (higher subunit)\",\n",
    "    \"Class I histocompatibility antigen,\\n F10 α chain-like 1\",\n",
    "    \"ENSTGUG00000019671\\n (novel protein-coding gene)\",\n",
    "    \"ENSTGUG00000021104\\n (novel protein-coding gene)\",\n",
    "    \"Extracellular fatty acid-binding protein-like\",\n",
    "    \"ENSTGUG00000022493\\n (lncRNA)\",\n",
    "    \"ENSTGUG00000023828\\n (lncRNA)\",\n",
    "    \"ENSTGUG00000024196\\n (lncRNA)\",\n",
    "    \"Ribosomal Protein S18-like\",\n",
    "    \"ENSTGUG00000026858\\n (lncRNA)\",\n",
    "    \"Ribonuclease Kappa 1\",\n",
    "    \"ENSTGUG00000028243\\n (lncRNA)\",\n",
    "    \"Class I histocompatibility antigen,\\n F10 α chain-like 2\",\n",
    "    \"ENSTGUG00000028479\\n (novel protein-coding gene)\",\n",
    "    \"ENSTGUG00000028531\\n (novel protein-coding gene)\",\n",
    "    \"Ribonuclease Kappa 2\",\n",
    "    \"ENSTGUG00000029343\\n (novel protein-coding gene)\",\n",
    "    \"Histone Deacetylase 7-like (HDAC7)\",\n",
    "]\n",
    "\n",
    "df_DE_exp = pd.DataFrame()\n",
    "df_DE_exp[\"gene_ID\"] = all_DE_exp\n",
    "df_DE_exp[\"gene_name\"] = all_DE_exp_names\n",
    "df_DE_exp = df_DE_exp.sort_values(\"gene_name\")\n",
    "df_DE_exp"
   ]
  },
  {
   "cell_type": "code",
   "execution_count": null,
   "metadata": {},
   "outputs": [],
   "source": [
    "genes = df_DE_exp[\"gene_ID\"].values\n",
    "labels = df_DE_exp[\"gene_name\"].values\n",
    "celltypes = celltypes_standard\n",
    "\n",
    "violinplot(adata_exp, adata_ctrl, genes, labels, celltypes, fig_name=\"DE_EXP\")"
   ]
  },
  {
   "cell_type": "code",
   "execution_count": null,
   "metadata": {},
   "outputs": [],
   "source": [
    "all_DE_ctrl = np.unique(\n",
    "    (mglut_markers[\"control\"].values).tolist()\n",
    "    + (mgaba_markers[\"control\"].values).tolist()\n",
    "    + (mglia_markers[\"control\"].values).tolist()\n",
    "    + (astro_markers[\"control\"].values).tolist()\n",
    ")\n",
    "\n",
    "all_DE_ctrl_names = [\n",
    "    \"Adenylosuccinate Synthase 1 (ADSS1)\",\n",
    "    \"Arachidonate 5-Lipoxygenase (ALOX5)\",\n",
    "    \"Basic, Immunoglobulin-Like Variable Motif Containing\\n (BIVM)\",\n",
    "    \"Fatty Acid Binding Protein 7 (FABP7)\",\n",
    "    \"Filamin C (FLNC)\",\n",
    "    \"Fms Related Receptor Tyrosine Kinase 3 (FLT3)\",\n",
    "    \"Hyaluronan And Proteoglycan Link Protein 4 (HAPLN4)\",\n",
    "    \"Heme Oxygenase 1 (HMOX1)\",\n",
    "    \"Insulin Like Growth Factor 2 (IGF2)\",\n",
    "    \"Microsomal Glutathione S-Transferase 1 (MGST1)\",\n",
    "    \"Neurotensin (NTS)\",\n",
    "    \"Purinergic Receptor P2Y12 (P2RY12)\",\n",
    "    \"Proenkephalin (PENK)\",\n",
    "    \"Prosaposin (PSAP)\",\n",
    "    \"Ribosomal Protein L17 (RPL17)\",\n",
    "    \"Semaphorin 3E (SEMA3E)\",\n",
    "    \"Solute Carrier Family 6 Member 6 (SLC6A6)\",\n",
    "    \"Synaptotagmin 2 (SYT2)\",\n",
    "    \"Synaptotagmin 4 (SYT4)\",\n",
    "    \"Urotensin 2B (UTS2B)\",\n",
    "    \"WRE\",\n",
    "    \"ENSTGUG00000004224\\n (novel protein-coding gene)\",\n",
    "    \"Beta-1,4-Galactosyltransferase 6 (B4GALT6)\",\n",
    "    \"ENSTGUG00000019084\\n (novel protein-coding gene)\",\n",
    "    \"ENSTGUG00000019157\\n (novel protein-coding gene)\",\n",
    "    \"ENSTGUG00000019418\\n (novel protein-coding gene)\",\n",
    "    \"ENSTGUG00000020332\\n (lncRNA)\",\n",
    "    \"ENSTGUG00000021421\\n (lncRNA)\",\n",
    "    \"ENSTGUG00000022636\\n (novel protein-coding gene)\",\n",
    "    \"ENSTGUG00000023435\\n (novel protein-coding gene)\",\n",
    "    \"ENSTGUG00000023451\\n (lncRNA)\",\n",
    "    \"ENSTGUG00000026378\\n (novel protein-coding gene)\",\n",
    "    \"ENSTGUG00000027801\\n (novel protein-coding gene)\",\n",
    "    \"ENSTGUG00000027913\\n (novel protein-coding gene)\",\n",
    "    \"ENSTGUG00000028256\\n (novel protein-coding gene)\",\n",
    "    \"ENSTGUG00000029050\\n (lncRNA)\",\n",
    "    \"Tubulin Beta-7 chain\",\n",
    "    \"All-Trans Retinoic Acid Induced\\n Differentiation Factor (ATRAID)\",\n",
    "    \"ENSTGUG00000029616\\n (novel protein-coding gene)\",\n",
    "    \"ENSTGUG00000029645\\n (novel protein-coding gene)\",\n",
    "]\n",
    "\n",
    "df_DE_ctrl = pd.DataFrame()\n",
    "df_DE_ctrl[\"gene_ID\"] = all_DE_ctrl\n",
    "df_DE_ctrl[\"gene_name\"] = all_DE_ctrl_names\n",
    "df_DE_ctrl = df_DE_ctrl.sort_values(\"gene_name\")\n",
    "df_DE_ctrl"
   ]
  },
  {
   "cell_type": "code",
   "execution_count": null,
   "metadata": {},
   "outputs": [],
   "source": [
    "genes = df_DE_ctrl[\"gene_ID\"].values\n",
    "labels = df_DE_ctrl[\"gene_name\"].values\n",
    "celltypes = celltypes_standard\n",
    "\n",
    "violinplot(\n",
    "    adata_exp,\n",
    "    adata_ctrl,\n",
    "    genes,\n",
    "    labels,\n",
    "    celltypes,\n",
    "    fig_name=\"DE_CTRL\",\n",
    ")"
   ]
  },
  {
   "cell_type": "markdown",
   "metadata": {},
   "source": [
    "Follow-up on all-trans retinoic acid induced differentiation factor (ATRAID) based on https://pubmed.ncbi.nlm.nih.gov/10985355/"
   ]
  },
  {
   "cell_type": "code",
   "execution_count": null,
   "metadata": {},
   "outputs": [],
   "source": [
    "aldh = [\n",
    "    \"ALDH1A1_ENSTGUG00000000800.2\",\n",
    "    \"ALDH1A2_ENSTGUG00000006178.2\",\n",
    "    \"ALDH1A3_ENSTGUG00000008854.2\",\n",
    "    #     \"ALDH1L2_ENSTGUG00000011095.2\"\n",
    "]\n",
    "\n",
    "aldh_names = [\n",
    "    \"ALDH1A1\",\n",
    "    \"ALDH1A2\",\n",
    "    \"ALDH1A3\",\n",
    "    #     \"ALDH1L2\"\n",
    "]\n",
    "\n",
    "genes = aldh\n",
    "labels = aldh_names\n",
    "celltypes = celltypes_standard\n",
    "\n",
    "violinplot(\n",
    "    adata_exp,\n",
    "    adata_ctrl,\n",
    "    genes,\n",
    "    labels,\n",
    "    celltypes,\n",
    "    fig_name=\"ALDHs\",\n",
    "    fold_change_min=1.5,\n",
    ")"
   ]
  },
  {
   "cell_type": "markdown",
   "metadata": {},
   "source": [
    "# DE genes from analysis of separately clustered exp and ctrl data\n",
    "DE genes here are a selection of the top 10 highest z-score genes for each celltype (control versus experiment) (including all clusters for that celltype) from the separately clustered experiment and control data\"."
   ]
  },
  {
   "cell_type": "code",
   "execution_count": null,
   "metadata": {},
   "outputs": [],
   "source": [
    "all_markers = [\n",
    "    \"SLC17A6_ENSTGUG00000004570.2\",\n",
    "    \"UTS2B_ENSTGUG00000009278.2\",\n",
    "    \"HPCAL1_ENSTGUG00000013044.2\",\n",
    "    \"ALDH1A2_ENSTGUG00000006178.2\",\n",
    "    \"DCN_ENSTGUG00000008178.2\",\n",
    "    \"FNDC9_ENSTGUG00000000654.2\",\n",
    "    \"NTS_ENSTGUG00000027877.1\",\n",
    "#    \n",
    "    \"_ENSTGUG00000008926.2\", \n",
    "    'PENK_ENSTGUG00000011112.2',\n",
    "    'CXCL14_ENSTGUG00000017226.2', \n",
    "    '_ENSTGUG00000001973.2',\n",
    "    'NPTX2_ENSTGUG00000008623.2',\n",
    "#    \n",
    "    'CCK_ENSTGUG00000004682.2',\n",
    "    'NTS_ENSTGUG00000027877.1',\n",
    "    'CHL1_ENSTGUG00000009997.2',\n",
    "    'PTN_ENSTGUG00000025134.1',\n",
    "    'VIP_ENSTGUG00000020465.1',\n",
    "#    \n",
    "    \"GFRA1_ENSTGUG00000018882.1\",\n",
    "    \"SCUBE1_ENSTGUG00000012016.2\",    \n",
    "    \"CACNA1G_ENSTGUG00000009049.2\",\n",
    "    \"GRIA2_ENSTGUG00000005484.2\",\n",
    "    \"GRIA4_ENSTGUG00000012676.2\",\n",
    "#\n",
    "    \"BDNF_ENSTGUG00000004743.2\",\n",
    "    \"FOSL2_ENSTGUG00000024611.1\",\n",
    "    \"HOMER1_ENSTGUG00000003711.2\",\n",
    "    \"ARC_ENSTGUG00000012727.2\",\n",
    "    \"TNFAIP8L3_ENSTGUG00000028388.1\",\n",
    "    \"EGR1_ENSTGUG00000000003.2\",\n",
    "#    \n",
    "    'TBR1_ENSTGUG00000006709.2', \n",
    "    'FABP7_ENSTGUG00000011826.2',\n",
    "    'NOTCH2_ENSTGUG00000017231.2',\n",
    "    \"NELL1_ENSTGUG00000004458.2\",\n",
    "#\n",
    "    \"_ENSTGUG00000017273.2\",\n",
    "    \"_ENSTGUG00000028417.1\",\n",
    "    \"_ENSTGUG00000004607.2\",\n",
    "#\n",
    "    \"NPTXR_ENSTGUG00000024678.1\",\n",
    "    \"NPTX1_ENSTGUG00000025297.1\", \n",
    "    \"NPTX2_ENSTGUG00000008623.2\",  \n",
    "    \"NRXN1_ENSTGUG00000005731.2\",\n",
    "    \"CNTN4_ENSTGUG00000010102.2\",\n",
    "    \"CACNA2D1_ENSTGUG00000002536.2\",\n",
    "]"
   ]
  },
  {
   "cell_type": "code",
   "execution_count": null,
   "metadata": {},
   "outputs": [],
   "source": [
    "genes = all_markers\n",
    "labels = all_markers\n",
    "celltypes = celltypes_standard\n",
    "\n",
    "violinplot(adata_exp, adata_ctrl, genes, labels, celltypes, \"sep_DE_genes\")"
   ]
  },
  {
   "cell_type": "markdown",
   "metadata": {},
   "source": [
    "# Marker for injury-induced transcriptional reprogramming\n",
    "https://www.ncbi.nlm.nih.gov/pmc/articles/PMC7590250/  \n",
    "Abstract: Primary somatosensory neurons are specialized to transmit specific types of sensory information through differences in cell size, myelination, and the expression of distinct receptors and ion channels, which together define their transcriptional and functional identity. By profiling sensory ganglia at single-cell resolution, we find that the all somatosensory neuronal subtypes undergo a similar transcriptional response to peripheral nerve injury that both promotes axonal regeneration and suppresses cell identity. This transcriptional reprogramming, which is not observed in non-neuronal cells, resolves over a similar time course as target reinnervation and is associated with the restoration of original cell identity. Injury-induced transcriptional reprogramming requires ATF3, a transcription factor which is induced rapidly after injury and necessary for axonal regeneration and functional recovery. Our findings suggest that transcription factors induced early after peripheral nerve injury likely confer the cellular plasticity required for sensory neurons to transform into a regenerative state."
   ]
  },
  {
   "cell_type": "code",
   "execution_count": null,
   "metadata": {},
   "outputs": [],
   "source": [
    "genes = [\"ATF3_ENSTGUG00000003050.2\", \"WRE_WRE\"]\n",
    "labels = [\"ATF3\", \"WRE\"]\n",
    "celltypes = celltypes_standard\n",
    "\n",
    "violinplot(adata_exp, adata_ctrl, genes, labels, celltypes, \"injury\")"
   ]
  },
  {
   "cell_type": "markdown",
   "metadata": {},
   "source": [
    "# Markers for cell identity maintenance\n",
    "https://www.nature.com/articles/nn.2623  \n",
    "Abstract: Transcriptional cascades are required for the specification of serotonin (5-HT) neurons and behaviors modulated by 5-HT. Several cascade factors are expressed throughout the lifespan, which suggests that their control of behavior might not be temporally restricted to programming normal numbers of 5-HT neurons. We used new mouse conditional targeting approaches to investigate the ongoing requirements for Pet-1 (also called Fev), a cascade factor that is required for the initiation of 5-HT synthesis, but whose expression persists into adulthood. We found that Pet-1 was required after the generation of 5-HT neurons for multiple steps in 5-HT neuron maturation, including axonal innervation of the somatosensory cortex, expression of appropriate firing properties, and the expression of the Htr1a and Htr1b autoreceptors. Pet-1 was still required in adult 5-HT neurons to preserve normal anxiety-related behaviors through direct autoregulated control of serotonergic gene expression. These findings indicate that Pet-1 is required across the lifespan of the mouse and that behavioral pathogenesis can result from both developmental and adult-onset alterations in serotonergic transcription.\n",
    "\n",
    "https://pubmed.ncbi.nlm.nih.gov/2576011/  \n",
    "Abstract: The homeo-box-containing gene mec-3 of the nematode Caenorhabditis elegans, is expressed in several sensory neurons, as assayed by expression of a mec-3-lacZ fusion. These cells are the touch receptors, which mediate the response to gentle touch, and the FLP and PVD neurons. PVD mediates a response to harsh mechanical stimuli, and FLP has an ultrastructure suggestive of a mechanoreceptor, but its function is unknown. mec-3 is necessary for the differentiation of the touch receptors, because in mec-3 mutants, the touch receptors do not function and have none of their distinguishing features. mec-3 is also needed for PVD function: The PVD neurons no longer mediate a response to harsh mechanical stimuli in the mutants. The expression of the mec-3-lacZ fusion, and presumably mec-3 itself, is altered by mutations in several genes originally identified by their effects on touch cell development. unc-86, another homeo-box-containing gene, is necessary for all mec-3-lacZ expression, but also affects several other lineages and cells in which mec-3 is not expressed. mec-3 activity appears to be required for maintained expression of the mec-3-lacZ fusion in all cells in which it is expressed. In a mec-17 mutant, mec-3-lacZ expression is not maintained in the touch receptors, but is not affected in the FLP and PVD neurons. These findings suggest that combinatorial mechanisms of gene regulation control both the expression of mec-3 itself and its action in promoting the terminal differentiation of various cell types."
   ]
  },
  {
   "cell_type": "code",
   "execution_count": null,
   "metadata": {},
   "outputs": [],
   "source": [
    "genes = [\"FEV_ENSTGUG00000027918.1\", \"_ENSTGUG00000002776.2\", \"HTR1B_ENSTGUG00000012613.2\", \"_ENSTGUG00000007091.2\"]\n",
    "labels = [\"Pet-1 / Fev\", \"Htr1a\", \"Htr1b\", \"HUS1 / mec-3?\"]\n",
    "celltypes = celltypes_standard\n",
    "\n",
    "violinplot(adata_exp, adata_ctrl, genes, labels, celltypes, \"cell_identity_maintenance\")"
   ]
  },
  {
   "cell_type": "markdown",
   "metadata": {},
   "source": [
    "___"
   ]
  },
  {
   "cell_type": "markdown",
   "metadata": {},
   "source": [
    "# Plot correlation R2 between genes per celltype comparing control and exp\n",
    "### !!! Is chromosomal location of correlated genes close???"
   ]
  },
  {
   "cell_type": "code",
   "execution_count": null,
   "metadata": {},
   "outputs": [],
   "source": []
  },
  {
   "cell_type": "code",
   "execution_count": null,
   "metadata": {},
   "outputs": [],
   "source": []
  },
  {
   "cell_type": "markdown",
   "metadata": {},
   "source": [
    "___"
   ]
  },
  {
   "cell_type": "markdown",
   "metadata": {},
   "source": [
    "# \"Fake\" bulk RNA seq disregarding celltypes\n",
    "Compare to findings from https://www.nature.com/articles/s41593-019-0419-y.pdf"
   ]
  },
  {
   "cell_type": "code",
   "execution_count": null,
   "metadata": {},
   "outputs": [],
   "source": []
  },
  {
   "cell_type": "code",
   "execution_count": null,
   "metadata": {},
   "outputs": [],
   "source": []
  },
  {
   "cell_type": "markdown",
   "metadata": {},
   "source": [
    "___"
   ]
  },
  {
   "cell_type": "markdown",
   "metadata": {},
   "source": [
    "# Distance calculations"
   ]
  },
  {
   "cell_type": "markdown",
   "metadata": {},
   "source": [
    "Calculate distance between PCA centroids within clusters"
   ]
  },
  {
   "cell_type": "code",
   "execution_count": null,
   "metadata": {},
   "outputs": [],
   "source": []
  },
  {
   "cell_type": "markdown",
   "metadata": {},
   "source": [
    "DE on highest distance clusters"
   ]
  },
  {
   "cell_type": "code",
   "execution_count": null,
   "metadata": {},
   "outputs": [],
   "source": []
  },
  {
   "cell_type": "code",
   "execution_count": null,
   "metadata": {},
   "outputs": [],
   "source": []
  },
  {
   "cell_type": "markdown",
   "metadata": {},
   "source": [
    "___"
   ]
  },
  {
   "cell_type": "markdown",
   "metadata": {
    "id": "_jyRlK9uoXnG"
   },
   "source": [
    "## Within celltype clusters, does the expression of (marker) genes differ between batches?"
   ]
  },
  {
   "cell_type": "code",
   "execution_count": null,
   "metadata": {},
   "outputs": [],
   "source": [
    "# gene_list = df_leiden[\"celltype\"].values\n",
    "# gene_list.sort()\n",
    "# gene_list"
   ]
  },
  {
   "cell_type": "code",
   "execution_count": null,
   "metadata": {
    "id": "S4VhZnUKoXnH",
    "outputId": "94af765e-6775-4317-bc11-7d370b1ba3b9"
   },
   "outputs": [],
   "source": [
    "# for celltype in gene_list:\n",
    "#     sc.pl.stacked_violin(adata[adata.obs[\"{}\".format(\"celltype\")]==\"{}\".format(celltype)], \n",
    "#                          marker_gene_mat.index.values, \n",
    "#                          groupby='batch', \n",
    "#                          title=\"{}\".format(celltype), \n",
    "#                          rotation=90, \n",
    "#                          sharey=True,\n",
    "#                          use_raw=False\n",
    "#                         )"
   ]
  },
  {
   "cell_type": "markdown",
   "metadata": {},
   "source": [
    "___"
   ]
  },
  {
   "cell_type": "markdown",
   "metadata": {
    "id": "w6KSvoXLoXnH"
   },
   "source": [
    "## Pairwise differential expression - Volcano plots"
   ]
  },
  {
   "cell_type": "markdown",
   "metadata": {
    "id": "UdzYOUWDoXnH"
   },
   "source": [
    "### Which genes are significantly different between the control and experiment batches?"
   ]
  },
  {
   "cell_type": "markdown",
   "metadata": {
    "id": "tQzsONOpoXnI"
   },
   "source": [
    "Compute arrays with mean number of counts for each gene for each dataset (containing two batches each):"
   ]
  },
  {
   "cell_type": "code",
   "execution_count": null,
   "metadata": {
    "id": "itVFXCV-oXnI"
   },
   "outputs": [],
   "source": [
    "control = np.array(adata[control_mask].X.mean(axis=0))[0]\n",
    "experiment = np.array(adata[experiment_mask].X.mean(axis=0))[0]"
   ]
  },
  {
   "cell_type": "markdown",
   "metadata": {},
   "source": [
    "Compute dataframe comparing the two datasets:"
   ]
  },
  {
   "cell_type": "code",
   "execution_count": null,
   "metadata": {},
   "outputs": [],
   "source": [
    "# Create df\n",
    "df_volcano = pd.DataFrame()\n",
    "\n",
    "## Add columns with gene names and mean counts for each gene for each batch\n",
    "df_volcano[\"GeneNames\"] = adata.var.index\n",
    "df_volcano[\"control\"] = control\n",
    "df_volcano[\"experiment\"] = experiment\n",
    "\n",
    "## Compute log fold change\n",
    "# Since we already normalized and logged the values, we just subtract them from each other in order to get the log fold change.\n",
    "df_volcano[\"logFC\"] = df_volcano[\"control\"] - df_volcano[\"experiment\"]\n",
    "df_volcano[\"logFC\"] = df_volcano[\"logFC\"].fillna(0)\n",
    "\n",
    "## Compute p-value\n",
    "df_volcano[\"p-value\"] = 0\n",
    "# Dense sparse matrices\n",
    "matrix_1 = adata[control_mask].X.todense()\n",
    "matrix_2 = adata[experiment_mask].X.todense()\n",
    "# Compute and save p-value\n",
    "_, df_volcano[\"p-value\"] = stats.ttest_ind(matrix_1, matrix_2, equal_var=False)\n",
    "\n",
    "# df_volcano = df_volcano.dropna()\n",
    "df_volcano.head()"
   ]
  },
  {
   "cell_type": "code",
   "execution_count": null,
   "metadata": {},
   "outputs": [],
   "source": [
    "fig, ax = plt.subplots(figsize=(10, 10))\n",
    "\n",
    "alpha=0.05\n",
    "xline = np.log(1.5) # Set cutoff such that fold change cutoff is 1.5x\n",
    "yline = -np.log10(alpha)\n",
    "\n",
    "x = df_volcano[\"logFC\"].values\n",
    "y = -np.log10(df_volcano[\"p-value\"].values.astype(float))\n",
    "labels = df_volcano[\"GeneNames\"]\n",
    "\n",
    "s=10\n",
    "a=0.5\n",
    "\n",
    "ax.scatter(x, y, color=\"grey\", s=s, alpha=a)\n",
    "\n",
    "mask1 = np.logical_and(x>xline, y>yline)\n",
    "ax.scatter(x[mask1], y[mask1], color=\"r\", s=s, alpha=1)\n",
    "\n",
    "mask2 = np.logical_and(x<-xline, y>yline)\n",
    "ax.scatter(x[mask2], y[mask2], color=\"r\", s=s, alpha=1)\n",
    "\n",
    "mask = np.logical_or(mask1, mask2)\n",
    "\n",
    "ax.axvline(x=-xline, color=\"grey\", linestyle=\"--\", zorder=-1)\n",
    "ax.axhline(y=yline, color=\"grey\", linestyle=\"--\", zorder=-1)\n",
    "ax.axvline(x=xline, color=\"grey\", linestyle=\"--\", zorder=-1)\n",
    "\n",
    "ax.set(**{\n",
    "    \"xlabel\": \"$log_e$ Fold Change\",\n",
    "    \"ylabel\": \"$-log_{10}$ p-value\",\n",
    "    \"title\": \"Volcano plot control vs. experiment across entire datasets\"\n",
    "})\n",
    "\n",
    "plt.savefig(\"figures/4_volcano_exp-vs-ctrl_all.png\", dpi=300, bbox_inches=\"tight\")\n",
    "plt.savefig(\"figures/4_volcano_exp-vs-ctrl_all.pdf\", dpi=300, bbox_inches=\"tight\")\n",
    "\n",
    "ax.set_axisbelow(True)\n",
    "\n",
    "fig.show()"
   ]
  },
  {
   "cell_type": "markdown",
   "metadata": {
    "id": "sJlg1S3PoXnM"
   },
   "source": [
    "# !To do: Restrict this to genes with a minimum number of UMIs to remove outliers?"
   ]
  },
  {
   "cell_type": "markdown",
   "metadata": {},
   "source": [
    "# Repeat per celltype - glutamatergic neurons"
   ]
  },
  {
   "cell_type": "markdown",
   "metadata": {
    "id": "tQzsONOpoXnI"
   },
   "source": [
    "Compute arrays with mean number of counts for each gene for each dataset (containing two batches each):"
   ]
  },
  {
   "cell_type": "code",
   "execution_count": null,
   "metadata": {
    "id": "itVFXCV-oXnI"
   },
   "outputs": [],
   "source": [
    "control_glut = np.array(adata[control_mask][np.char.startswith(nd(adata[control_mask].obs.celltype.values).astype(str), \"glutamatergic neurons\")].X.mean(axis=0))[0]\n",
    "experiment_glut = np.array(adata[experiment_mask][np.char.startswith(nd(adata[experiment_mask].obs.celltype.values).astype(str), \"glutamatergic neurons\")].X.mean(axis=0))[0]"
   ]
  },
  {
   "cell_type": "markdown",
   "metadata": {},
   "source": [
    "Compute dataframe comparing the two datasets:"
   ]
  },
  {
   "cell_type": "code",
   "execution_count": null,
   "metadata": {},
   "outputs": [],
   "source": [
    "# Create df\n",
    "df_volcano_glut = pd.DataFrame()\n",
    "\n",
    "## Add columns with gene names and mean counts for each gene for each batch\n",
    "df_volcano_glut[\"GeneNames\"] = adata.var.index\n",
    "df_volcano_glut[\"control\"] = control_glut\n",
    "df_volcano_glut[\"experiment\"] = experiment_glut\n",
    "\n",
    "## Compute log fold change\n",
    "# Since we already normalized and logged the values, we just subtract them from each other in order to get the log fold change.\n",
    "df_volcano_glut[\"logFC\"] = df_volcano_glut[\"control\"] - df_volcano_glut[\"experiment\"]\n",
    "df_volcano_glut[\"logFC\"] = df_volcano_glut[\"logFC\"].fillna(0)\n",
    "\n",
    "## Compute p-value\n",
    "df_volcano_glut[\"p-value\"] = 0\n",
    "# Dense sparse matrices\n",
    "matrix_1_glut = adata[control_mask][np.char.startswith(nd(adata[control_mask].obs.celltype.values).astype(str), \"glutamatergic neurons\")].X.todense()\n",
    "matrix_2_glut = adata[experiment_mask][np.char.startswith(nd(adata[experiment_mask].obs.celltype.values).astype(str), \"glutamatergic neurons\")].X.todense()\n",
    "# Compute and save p-value\n",
    "_, df_volcano_glut[\"p-value\"] = stats.ttest_ind(matrix_1_glut, matrix_2_glut, equal_var=False)\n",
    "\n",
    "# df_volcano = df_volcano.dropna()\n",
    "df_volcano_glut.head()"
   ]
  },
  {
   "cell_type": "code",
   "execution_count": null,
   "metadata": {},
   "outputs": [],
   "source": [
    "fig, ax = plt.subplots(figsize=(10, 10))\n",
    "alpha=0.05\n",
    "\n",
    "df_volc = df_volcano_glut\n",
    "\n",
    "xline = np.log(1.5) # Set cutoff such that fold change cutoff is 1.5x\n",
    "yline = -np.log10(alpha)\n",
    "\n",
    "x = df_volc[\"logFC\"].values\n",
    "y = -np.log10(df_volc[\"p-value\"].values.astype(float))\n",
    "labels = df_volc[\"GeneNames\"]\n",
    "\n",
    "s=10\n",
    "a=0.5\n",
    "\n",
    "ax.scatter(x, y, color=\"grey\", s=s, alpha=a)\n",
    "\n",
    "mask1 = np.logical_and(x>xline, y>yline)\n",
    "ax.scatter(x[mask1], y[mask1], color=\"r\", s=s, alpha=1)\n",
    "\n",
    "mask2 = np.logical_and(x<-xline, y>yline)\n",
    "ax.scatter(x[mask2], y[mask2], color=\"r\", s=s, alpha=1)\n",
    "\n",
    "mask = np.logical_or(mask1, mask2)\n",
    "\n",
    "ax.axvline(x=-xline, color=\"grey\", linestyle=\"--\", zorder=-1)\n",
    "ax.axhline(y=yline, color=\"grey\", linestyle=\"--\", zorder=-1)\n",
    "ax.axvline(x=xline, color=\"grey\", linestyle=\"--\", zorder=-1)\n",
    "\n",
    "ax.set(**{\n",
    "    \"xlabel\": \"$log_e$ Fold Change\",\n",
    "    \"ylabel\": \"$-log_{10}$ p-value\",\n",
    "    \"title\": \"Volcano plot control vs. experiment within glutamatergic neurons\"\n",
    "})\n",
    "\n",
    "plt.savefig(\"figures/4_volcano_exp-vs-ctrl_glut.png\", dpi=300, bbox_inches=\"tight\")\n",
    "plt.savefig(\"figures/4_volcano_exp-vs-ctrl_glut.pdf\", dpi=300, bbox_inches=\"tight\")\n",
    "\n",
    "ax.set_axisbelow(True)\n",
    "\n",
    "fig.show()"
   ]
  },
  {
   "cell_type": "markdown",
   "metadata": {},
   "source": [
    "___"
   ]
  },
  {
   "cell_type": "markdown",
   "metadata": {},
   "source": [
    "# UpSet plot of perturbed genes per celltype"
   ]
  },
  {
   "cell_type": "markdown",
   "metadata": {},
   "source": [
    "Create data frame with data for UpSet plot. True values define perturbed genes. A perturbed gene for each celltype is defined as p-value < 0.05 and FC > 1.5 between control and experiment."
   ]
  },
  {
   "cell_type": "code",
   "execution_count": null,
   "metadata": {},
   "outputs": [],
   "source": [
    "# Define alpha with Bonferroni correction\n",
    "k = len(celltypes_standard) * len(adata.var.index.values)\n",
    "alpha = 0.05 / k\n",
    "\n",
    "# Define minimum fold change\n",
    "min_fold_change = np.log(1.5)\n",
    "\n",
    "df_upset = pd.DataFrame()\n",
    "df_upset[\"gene\"] = adata.var.index.values\n",
    "\n",
    "for celltype in celltypes_standard:\n",
    "    # for celltype in adata.obs[\"celltype\"].unique():\n",
    "\n",
    "    ## Compute logFC\n",
    "    control_mean = np.array(\n",
    "        adata[control_mask][\n",
    "            np.char.startswith(\n",
    "                nd(adata[control_mask].obs.celltype.values).astype(str), celltype\n",
    "            )\n",
    "        ].X.mean(axis=0)\n",
    "    )[0]\n",
    "    experiment_mean = np.array(\n",
    "        adata[experiment_mask][\n",
    "            np.char.startswith(\n",
    "                nd(adata[experiment_mask].obs.celltype.values).astype(str), celltype\n",
    "            )\n",
    "        ].X.mean(axis=0)\n",
    "    )[0]\n",
    "    df_upset[f\"logFC_{celltype}\"] = control_mean - experiment_mean\n",
    "\n",
    "    ## Compute p-value\n",
    "    df_upset[f\"p-value_{celltype}\"] = 0\n",
    "    # Dense sparse matrices\n",
    "    matrix_1 = adata[control_mask][\n",
    "        np.char.startswith(\n",
    "            nd(adata[control_mask].obs.celltype.values).astype(str), celltype\n",
    "        )\n",
    "    ].X.todense()\n",
    "    matrix_2 = adata[experiment_mask][\n",
    "        np.char.startswith(\n",
    "            nd(adata[experiment_mask].obs.celltype.values).astype(str), celltype\n",
    "        )\n",
    "    ].X.todense()\n",
    "    # Compute and save p-value\n",
    "    _, df_upset[f\"p-value_{celltype}\"] = stats.ttest_ind(\n",
    "        matrix_1, matrix_2, equal_var=False\n",
    "    )\n",
    "\n",
    "    # Add True/False column to indicate whether the genes are perturbed for this celltype\n",
    "    # Perturbed (True) is defined as p-value < 0.05 and FC > 1.5\n",
    "    df_upset[celltype] = df_upset[f\"p-value_{celltype}\"].map(\n",
    "        lambda x: x < alpha\n",
    "    ) & df_upset[f\"logFC_{celltype}\"].map(\n",
    "        lambda x: x > min_fold_change or x < -min_fold_change\n",
    "    )"
   ]
  },
  {
   "cell_type": "code",
   "execution_count": null,
   "metadata": {},
   "outputs": [],
   "source": [
    "df_upset.head()"
   ]
  },
  {
   "cell_type": "code",
   "execution_count": null,
   "metadata": {},
   "outputs": [],
   "source": [
    "# Look at barplot of (raw) counts of a marker gene\n",
    "fig, ax = plt.subplots()\n",
    "\n",
    "arr = nd(adata.raw.X[:,adata.var.index == '_ENSTGUG00000017273.2'].todense()) \n",
    "uniq, inverse = np.unique(arr, return_inverse=True)\n",
    "np.bincount(inverse)\n",
    "\n",
    "# Exclude counts of 0\n",
    "height = np.bincount(inverse)[1:]\n",
    "x = uniq[1:]\n",
    "\n",
    "ax.bar(x, height)"
   ]
  },
  {
   "cell_type": "markdown",
   "metadata": {},
   "source": [
    "Make all celltype columns index for plotting with package 'upsetplot':"
   ]
  },
  {
   "cell_type": "code",
   "execution_count": null,
   "metadata": {},
   "outputs": [],
   "source": [
    "# celltypes = np.unique(adata.obs[\"celltype\"].values)\n",
    "celltypes = celltypes_standard\n",
    "df_upset2 = df_upset.set_index(list(celltypes))"
   ]
  },
  {
   "cell_type": "markdown",
   "metadata": {},
   "source": [
    "Plot UpSet plot:"
   ]
  },
  {
   "cell_type": "code",
   "execution_count": null,
   "metadata": {},
   "outputs": [],
   "source": [
    "# help(UpSet)"
   ]
  },
  {
   "cell_type": "code",
   "execution_count": null,
   "metadata": {},
   "outputs": [],
   "source": [
    "# intersection_plot_elements disbales default bar chart\n",
    "upset = UpSet(df_upset2, min_degree=1, show_counts=True)\n",
    "    \n",
    "upset.style_subsets(min_subset_size=15,\n",
    "                    facecolor=\"red\",\n",
    "                    label=\"Number of perturbed genes ≥ 20\")\n",
    "\n",
    "upset.plot()\n",
    "plt.tight_layout()\n",
    "plt.show()"
   ]
  },
  {
   "cell_type": "markdown",
   "metadata": {},
   "source": [
    "### Plot DE genes in violin plot per dataset"
   ]
  },
  {
   "cell_type": "code",
   "execution_count": null,
   "metadata": {},
   "outputs": [],
   "source": [
    "adata_ctrl1 = adata[adata.obs[\"batch\"] == \"control1\"]\n",
    "adata_ctrl2 = adata[adata.obs[\"batch\"] == \"control2\"]\n",
    "adata_exp1 = adata[adata.obs[\"batch\"] == \"experiment1\"]\n",
    "adata_exp2 = adata[adata.obs[\"batch\"] == \"experiment2\"]\n",
    "\n",
    "# celltypes = list(adata.obs[\"celltype\"].unique())\n",
    "celltypes = celltypes_standard # Only includes clusters with > 100 cells\n",
    "\n",
    "colors = [\"#0571b0\", \"#a6cee3\", \"#e66101\", \"#fdb863\"]"
   ]
  },
  {
   "cell_type": "code",
   "execution_count": null,
   "metadata": {},
   "outputs": [],
   "source": [
    "for cluster_idx, cluster in enumerate(celltypes):\n",
    "    genes = df_upset[df_upset[cluster]==True][\"gene\"].values\n",
    "    labels = genes\n",
    "    \n",
    "    fig_name = \"DE-gene-expression-per-batch\"\n",
    "\n",
    "    fold_change_min=2\n",
    "    alpha=0.05\n",
    "\n",
    "    fontsize_star = 20\n",
    "\n",
    "    fig, axs = plt.subplots(figsize=(20,len(genes)), nrows=len(genes))   \n",
    "\n",
    "    ## Find the indeces of the celltypes/clusters to be used\n",
    "    # If the first celltype does not contain a number (e.g. \"microglia\" versus \"microglia_1\"),\n",
    "    # use general celltype (celltype_g) to find all of the clusters for that celltye\n",
    "    # (This is the case for data from the separately clustered dataset)\n",
    "    if any(map(str.isdigit, celltypes[0])) == False:\n",
    "        print(\"Including all clusters for each celltype (obs column: celltype_g).\")\n",
    "        # Define celltypes and celltype indeces in both datasets\n",
    "        celltype_ctrl1_idx = [np.where(adata_ctrl1.obs.celltype_g == i)[0] for i in celltypes]\n",
    "        celltype_ctrl2_idx = [np.where(adata_ctrl2.obs.celltype_g == i)[0] for i in celltypes]\n",
    "        celltype_exp1_idx = [np.where(adata_exp1.obs.celltype_g == i)[0] for i in celltypes]\n",
    "        celltype_exp2_idx = [np.where(adata_exp2.obs.celltype_g == i)[0] for i in celltypes]\n",
    "    # Else, use individual clusters\n",
    "    else:\n",
    "        print(\"Individual cluster analysis (obs column: celltype).\")\n",
    "        # Define celltypes and celltype indeces in both datasets\n",
    "        celltype_ctrl1_idx = [np.where(adata_ctrl1.obs.celltype == i)[0] for i in celltypes]\n",
    "        celltype_ctrl2_idx = [np.where(adata_ctrl2.obs.celltype == i)[0] for i in celltypes]\n",
    "        celltype_exp1_idx = [np.where(adata_exp1.obs.celltype == i)[0] for i in celltypes]\n",
    "        celltype_exp2_idx = [np.where(adata_exp2.obs.celltype == i)[0] for i in celltypes]\n",
    "\n",
    "    lidx = np.arange(len(celltypes))*4\n",
    "\n",
    "    if len(genes) < 2:\n",
    "        axs = [axs]\n",
    "\n",
    "    for cidx, (gene, ax) in enumerate(zip(genes, axs)):\n",
    "        ## Get counts for this gene for all CTRL1 cells\n",
    "        x_ctrl1_temp = nd(adata_ctrl1.X[:, adata_ctrl1.var.index.str.contains(gene)].todense())\n",
    "        # Group CTRL normalized UMI counts per celltype\n",
    "        x_ctrl1=[]\n",
    "        for idx_array in celltype_ctrl1_idx:\n",
    "            x_ctrl1.append([x_ctrl1_temp[i] for i in idx_array])\n",
    "\n",
    "        v1 = ax.violinplot(x_ctrl1, showmeans=True, showextrema=False, positions=lidx-0.9)\n",
    "\n",
    "        ## Get counts for this gene for all CTRL2 cells\n",
    "        x_ctrl2_temp = nd(adata_ctrl2.X[:, adata_ctrl2.var.index.str.contains(gene)].todense())\n",
    "        # Group CTRL normalized UMI counts per celltype\n",
    "        x_ctrl2=[]\n",
    "        for idx_array in celltype_ctrl2_idx:\n",
    "            x_ctrl2.append([x_ctrl2_temp[i] for i in idx_array])\n",
    "\n",
    "        v2 = ax.violinplot(x_ctrl2, showmeans=True, showextrema=False, positions=lidx-0.3)\n",
    "\n",
    "        ## Get counts for this gene for all EXP1 cells\n",
    "        x_exp1_temp = nd(adata_exp1.X[:, adata_exp1.var.index.str.contains(gene)].todense())\n",
    "        # Group EXP normalized UMI counts per celltype\n",
    "        x_exp1=[]\n",
    "        for idx_array in celltype_exp1_idx:\n",
    "            x_exp1.append([x_exp1_temp[i] for i in idx_array])\n",
    "\n",
    "        v3 = ax.violinplot(x_exp1, showmeans=True, showextrema=False, positions=lidx+0.3)\n",
    "\n",
    "        ## Get counts for this gene for all EXP2 cells\n",
    "        x_exp2_temp = nd(adata_exp2.X[:, adata_exp2.var.index.str.contains(gene)].todense())\n",
    "        # Group EXP normalized UMI counts per celltype\n",
    "        x_exp2=[]\n",
    "        for idx_array in celltype_exp2_idx:\n",
    "            x_exp2.append([x_exp2_temp[i] for i in idx_array])\n",
    "\n",
    "        v4 = ax.violinplot(x_exp2, showmeans=True, showextrema=False, positions=lidx+0.9)\n",
    "\n",
    "    #     ## Welch's t-test and fold change of mean calculation\n",
    "    #     fold_changes = [] \n",
    "    #     p_values = []\n",
    "    #     for index, cell_array in enumerate(x_exp):\n",
    "    #         # Perform Welch’s t-test, which does not assume equal population variance\n",
    "    #         s, p = stats.ttest_ind(cell_array, x_ctrl[index], equal_var=False)\n",
    "    #         # Save p-value for violin plot body transparency and heatmap\n",
    "    #         p_values.append(p)\n",
    "\n",
    "    #         if np.mean(cell_array) > np.mean(x_ctrl[index]):\n",
    "    #             fold_change = np.mean(cell_array) / np.mean(x_ctrl[index])\n",
    "    #             if p < alpha and fold_change >= fold_change_min:\n",
    "    #                 ax.annotate(\"*\", (lidx[index], 0.5*ax.get_ylim()[1]), ha=\"center\", c=\"crimson\", fontsize=fontsize_star)\n",
    "\n",
    "    #             # Save foldchange for violin plot body transparency and heatmap\n",
    "    #             fold_changes.append(fold_change)\n",
    "\n",
    "    #         if np.mean(cell_array) <= np.mean(x_ctrl[index]):\n",
    "    #             fold_change = np.mean(x_ctrl[index]) / np.mean(cell_array)\n",
    "    #             if p < alpha and fold_change >= fold_change_min:\n",
    "    #                 ax.annotate(\"*\", (lidx[index], 0.5*ax.get_ylim()[1]), ha=\"center\", c=\"blue\", fontsize=fontsize_star)\n",
    "\n",
    "    #             # Save foldchange for violin plot body transparency \n",
    "    #             fold_changes.append(fold_change)\n",
    "\n",
    "        ## Set color and transparency of the violin plot bodies\n",
    "        # Set transparency based on fold change (FC) and p-value\n",
    "        # All violin plots showing an FC >= fold_change_min and p < alpha will be 100% opaque; \n",
    "        # for FCs < fold_change_min and p > alpha will be 10% opaque\n",
    "        # Violin plots showing experiment data:\n",
    "        # Violin plots showing control data:\n",
    "        for pcidx, pc in enumerate(v1[\"bodies\"]):\n",
    "            pc.set_facecolor(colors[0])\n",
    "            pc.set_edgecolor(colors[0])\n",
    "            pc.set_alpha(1)\n",
    "\n",
    "        for pcidx, pc in enumerate(v2[\"bodies\"]):\n",
    "            pc.set_facecolor(colors[1])\n",
    "            pc.set_edgecolor(colors[1])\n",
    "            pc.set_alpha(1)\n",
    "\n",
    "        for pcidx, pc in enumerate(v3[\"bodies\"]):\n",
    "            pc.set_facecolor(colors[2])  \n",
    "            pc.set_edgecolor(colors[2])\n",
    "            pc.set_alpha(1)\n",
    "\n",
    "        for pcidx, pc in enumerate(v4[\"bodies\"]):\n",
    "            pc.set_facecolor(colors[3])  \n",
    "            pc.set_edgecolor(colors[3])\n",
    "            pc.set_alpha(1)\n",
    "\n",
    "        # Set colors of mean bar\n",
    "        v1['cmeans'].set_color(\"black\")\n",
    "        v2['cmeans'].set_color(\"black\")\n",
    "        v3['cmeans'].set_color(\"black\")\n",
    "        v4['cmeans'].set_color(\"black\")\n",
    "\n",
    "        ## Set up x- and y- tick labels, and distinct top and bottom axes  \n",
    "        # Get total number of cells per celltype cluster\n",
    "        cellcounts_ctrl1=[]\n",
    "        for array in x_ctrl1:\n",
    "            cellcounts_ctrl1.append(len(array)) \n",
    "        cellcounts_ctrl2=[]\n",
    "        for array in x_ctrl2:\n",
    "            cellcounts_ctrl2.append(len(array)) \n",
    "        cellcounts_exp1=[]\n",
    "        for array in x_exp1:\n",
    "            cellcounts_exp1.append(len(array)) \n",
    "        cellcounts_exp2=[]\n",
    "        for array in x_exp2:\n",
    "            cellcounts_exp2.append(len(array)) \n",
    "\n",
    "        xticklabels=[]    \n",
    "        for i2, (celltype, cellcount) in enumerate(zip(celltypes, cellcounts_exp1)):\n",
    "            xticklabels.append(\"{} \\n(Control1: {}; Control2: {}; TetX1: {}; TetX2: {})\".format(celltype, cellcounts_ctrl1[i2], cellcounts_ctrl2[i2], cellcounts_exp1[i2], cellcounts_exp2[i2]))\n",
    "\n",
    "        if cidx==0:\n",
    "            ax_top = ax.twiny()\n",
    "            ax_top.set_xlim(ax.get_xlim()) # DO NOT DELETE THIS\n",
    "            ax_top.set_ylim(ax.get_ylim()[0], 2.5*ax.get_ylim()[1]) # Slightly increase space on top of first row of plots\n",
    "            ax_top.set_xticks(lidx)\n",
    "            ax_top.set_xticklabels(xticklabels, rotation=45, ha=\"left\")\n",
    "            ax_top.get_xticklabels()[cluster_idx].set_color('red') # Mark cluster for which these are the significant DE genes in red\n",
    "            ax_top.spines[\"top\"].set_visible(False)\n",
    "            ax_top.spines[\"left\"].set_visible(False)\n",
    "            ax_top.spines[\"bottom\"].set_visible(False)\n",
    "            ax_top.xaxis.grid(False) \n",
    "\n",
    "        if cidx == len(genes)-1:\n",
    "            ax_bot = ax.twiny()\n",
    "            ax_bot.set_xticks([])\n",
    "            ax_bot.set_xticklabels([])\n",
    "            ax_bot.spines[\"top\"].set_visible(False)\n",
    "            ax_bot.spines[\"left\"].set_visible(False)\n",
    "            ax_bot.spines[\"bottom\"].set_visible(False)\n",
    "\n",
    "        ax.yaxis.tick_right()\n",
    "        ax.set_ylabel(labels[cidx], color=\"black\",rotation=\"horizontal\", ha=\"right\", va=\"center\")\n",
    "\n",
    "        ax.spines[\"top\"].set_visible(False)\n",
    "        ax.spines[\"left\"].set_visible(False)\n",
    "        ax.spines[\"bottom\"].set_visible(False)\n",
    "\n",
    "        ax.set_axisbelow(True)\n",
    "        ax.xaxis.grid(False) \n",
    "\n",
    "        # Set y axis on log scale including 0\n",
    "        ax.set_yscale('symlog')\n",
    "\n",
    "        ax.tick_params(\n",
    "            axis=\"x\",          # changes apply to the x-axis\n",
    "            which=\"both\",      # both major and minor ticks are affected\n",
    "            bottom=False,      # ticks along the bottom edge are off\n",
    "            top=False,         # ticks along the top edge are off\n",
    "            labelbottom=False) # labels along the bottom edge are off\n",
    "    \n",
    "    plt.savefig(f\"figures/4_vplot_{fig_name}_{cluster.replace(' ', '-').replace('/-', '')}.png\", bbox_inches=\"tight\", dpi=300, transparent=True)\n",
    "    plt.show()"
   ]
  },
  {
   "cell_type": "markdown",
   "metadata": {},
   "source": [
    "Look up DE genes:"
   ]
  },
  {
   "cell_type": "code",
   "execution_count": null,
   "metadata": {},
   "outputs": [],
   "source": [
    "# Remove gene name and \"_\" from Ensembl ID\n",
    "de_genes = []\n",
    "for gene in df_upset[df_upset[cluster]==True][\"gene\"].unique():\n",
    "    de_genes.append(gene.split(\"_\")[1])"
   ]
  },
  {
   "cell_type": "code",
   "execution_count": null,
   "metadata": {},
   "outputs": [],
   "source": [
    "df = gget.info(de_genes, wrap_text = True)"
   ]
  },
  {
   "cell_type": "markdown",
   "metadata": {},
   "source": [
    "___"
   ]
  },
  {
   "cell_type": "markdown",
   "metadata": {},
   "source": [
    "# Figures for schematics"
   ]
  },
  {
   "cell_type": "code",
   "execution_count": null,
   "metadata": {},
   "outputs": [],
   "source": [
    "# def violinplot_mainfig(genes, labels, celltypes, fig_name, alpha=0.05, fold_change_min=2):\n",
    "#     fig, axs = plt.subplots(figsize=(10, 2), nrows=len(genes))\n",
    "\n",
    "#     # Define celltypes and celltype indeces in both datasets\n",
    "#     celltype_exp_idx = [np.where(adata_exp.obs.celltype == i)[0] for i in celltypes]\n",
    "#     celltype_ctrl_idx = [np.where(adata_ctrl.obs.celltype == i)[0] for i in celltypes]\n",
    "\n",
    "#     lidx = np.arange(len(celltypes))*2\n",
    "    \n",
    "#     fontsize_star = 20\n",
    "\n",
    "#     for cidx, (gene, ax) in enumerate(zip(genes, axs)):\n",
    "#         ## Get counts for this gene for all EXP cells\n",
    "#         x_exp_temp = nd(adata_exp.X[:, adata_exp.var.index.str.contains(gene)].todense())\n",
    "#         # Group EXP gene counts per celltype\n",
    "#         x_exp=[]\n",
    "#         for idx_array in celltype_exp_idx:\n",
    "#             x_exp.append([x_exp_temp[i] for i in idx_array])\n",
    "\n",
    "#         v1 = ax.violinplot(x_exp, showmedians=False, showextrema=False, positions=lidx+0.3)\n",
    "\n",
    "#         for pcidx, pc in enumerate(v1[\"bodies\"]):\n",
    "#             pc.set_facecolor(\"red\")\n",
    "#             pc.set_edgecolor(\"black\")\n",
    "#             pc.set_alpha(1)\n",
    "\n",
    "#         ## Get counts for this gene for all CTRL cells\n",
    "#         x_ctrl_temp = nd(adata_ctrl.X[:, adata_ctrl.var.index.str.contains(gene)].todense())\n",
    "#         # Group CTRL gene counts per celltype\n",
    "#         x_ctrl=[]\n",
    "#         for idx_array in celltype_ctrl_idx:\n",
    "#             x_ctrl.append([x_ctrl_temp[i] for i in idx_array])\n",
    "\n",
    "#         v2 = ax.violinplot(x_ctrl, showmedians=False, showextrema=False, positions=lidx-0.3)\n",
    "        \n",
    "#         for pcidx2, pc2 in enumerate(v2[\"bodies\"]):\n",
    "#             pc2.set_facecolor(\"blue\")\n",
    "#             pc2.set_edgecolor(\"black\")\n",
    "#             pc2.set_alpha(1)\n",
    "            \n",
    "#         ## Welch's t-test and fold change of mean calculation\n",
    "#         for index, cell_array in enumerate(x_exp):\n",
    "#             s, p = stats.ttest_ind(cell_array, x_ctrl[index], equal_var=False)\n",
    "            \n",
    "#             if np.mean(cell_array) > np.mean(x_ctrl[index]):\n",
    "#                 fold_change = np.mean(cell_array) / np.mean(x_ctrl[index])\n",
    "#                 if p < alpha and fold_change > fold_change_min:\n",
    "#                     ax.annotate(\"*\", (lidx[index], 0.6*ax.get_ylim()[1]), ha=\"center\", c=\"black\", fontsize=fontsize_star)\n",
    "                    \n",
    "#             if np.mean(cell_array) <= np.mean(x_ctrl[index]):\n",
    "#                 fold_change = np.mean(x_ctrl[index]) / np.mean(cell_array)\n",
    "#                 if p < alpha and fold_change > fold_change_min:\n",
    "#                     ax.annotate(\"*\", (lidx[index], 0.6*ax.get_ylim()[1]), ha=\"center\", c=\"black\", fontsize=fontsize_star)\n",
    "\n",
    "#         ## Set up x- and y- tick labels, and distinct top and bottom axes  \n",
    "#         # Get total number of cells per celltype cluster\n",
    "#         cellcounts_exp=[]\n",
    "#         for array in x_exp:\n",
    "#             cellcounts_exp.append(len(array)) \n",
    "#         cellcounts_ctrl=[]\n",
    "#         for array in x_ctrl:\n",
    "#             cellcounts_ctrl.append(len(array)) \n",
    "\n",
    "#         xticklabels=[]    \n",
    "#         for i2, (celltype, cellcount) in enumerate(zip(celltypes, cellcounts_exp)):\n",
    "#             xticklabels.append(\"{}\".format(celltype))\n",
    "\n",
    "#         if cidx==0:\n",
    "#             ax_top = ax.twiny()\n",
    "#             ax_top.set_xlim(ax.get_xlim()) # DO NOT DELETE THIS\n",
    "#             ax_top.set_ylim(ax.get_ylim()[0], 1.2*ax.get_ylim()[1]) # Slightly increase space on top of first row of plots\n",
    "#             ax_top.set_xticks(lidx)\n",
    "#             ax_top.set_xticklabels(xticklabels, rotation=45, ha=\"left\")\n",
    "#             ax_top.spines[\"top\"].set_visible(True)\n",
    "#             ax_top.spines[\"left\"].set_visible(False)\n",
    "#             ax_top.spines[\"bottom\"].set_visible(False)\n",
    "#             ax_top.xaxis.grid(False) \n",
    "\n",
    "#         if cidx == len(celltypes)-1:\n",
    "#             ax_bot = ax.twiny()\n",
    "#             ax_bot.set_xticks([])\n",
    "#             ax_bot.set_xticklabels([])\n",
    "#             ax_bot.spines[\"top\"].set_visible(False)\n",
    "#             ax_bot.spines[\"left\"].set_visible(False)\n",
    "#             ax_bot.spines[\"bottom\"].set_visible(True)\n",
    "\n",
    "# #         ax.set_xticklabels(\"\")\n",
    "#         ax.yaxis.tick_right()\n",
    "#         ax.set_ylabel(labels[cidx], color=\"black\",rotation=\"horizontal\", ha=\"right\", va=\"center\")\n",
    "\n",
    "# #         lim = nd(x.mean(axis=0))[cidx]*4   \n",
    "# #         ax.set_ylim(-lim*0.1, lim)\n",
    "# #         ax.yaxis.set_major_formatter(matplotlib.ticker.StrMethodFormatter('{x:,.0f}'))\n",
    "\n",
    "#         ax.spines[\"top\"].set_visible(False)\n",
    "#         ax.spines[\"left\"].set_visible(False)\n",
    "#         ax.spines[\"bottom\"].set_visible(False)\n",
    "\n",
    "#         ax.set_axisbelow(True)\n",
    "#         ax.xaxis.grid(False) \n",
    "\n",
    "#         ax.tick_params(\n",
    "#             axis=\"x\",          # changes apply to the x-axis\n",
    "#             which=\"both\",      # both major and minor ticks are affected\n",
    "#             bottom=False,      # ticks along the bottom edge are off\n",
    "#             top=False,         # ticks along the top edge are off\n",
    "#             labelbottom=False) # labels along the bottom edge are off\n",
    "\n",
    "#     # plt.tight_layout(pad=0, w_pad=0, h_pad=0)\n",
    "#     plt.savefig(\"figures/vp_{}.png\".format(fig_name), bbox_inches=\"tight\", dpi=300)\n",
    "#     plt.show()"
   ]
  },
  {
   "cell_type": "code",
   "execution_count": null,
   "metadata": {},
   "outputs": [],
   "source": [
    "genes = [\"_ENSTGUG00000017273.2\", \"_ENSTGUG00000004607.2\"]\n",
    "labels = [\"MHC1\", \"B2M\"]\n",
    "celltypes = ['astrocytes 1', 'astrocytes 2','glutamatergic neurons 1', 'glutamatergic neurons 2','glutamatergic neurons 3', 'microglia 1', 'microglia 2']\n",
    "\n",
    "violinplot(\n",
    "    adata_exp,\n",
    "    adata_ctrl,\n",
    "    genes,\n",
    "    labels,\n",
    "    celltypes,\n",
    "    fig_name=\"schematic\",\n",
    "    fold_change_min=2,\n",
    ")"
   ]
  }
 ],
 "metadata": {
  "kernelspec": {
   "display_name": "Python 3",
   "language": "python",
   "name": "python3"
  },
  "language_info": {
   "codemirror_mode": {
    "name": "ipython",
    "version": 3
   },
   "file_extension": ".py",
   "mimetype": "text/x-python",
   "name": "python",
   "nbconvert_exporter": "python",
   "pygments_lexer": "ipython3",
   "version": "3.7.6"
  }
 },
 "nbformat": 4,
 "nbformat_minor": 4
}
